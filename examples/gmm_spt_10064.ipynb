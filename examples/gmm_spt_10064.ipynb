{
 "cells": [
  {
   "cell_type": "markdown",
   "metadata": {},
   "source": [
    "### Applying the GMM heterogeneity analysis to subtomogram averaging\n",
    "This uses a single model refinement (using the new pipeline) of the ribosome from the EMPIAR-10064 dataset. A neutral Gaussian model is already generated from the averaged structure, and here we look at the continuous movement of the particles. "
   ]
  },
  {
   "cell_type": "code",
   "execution_count": 1,
   "metadata": {},
   "outputs": [],
   "source": [
    "import numpy as np\n",
    "import matplotlib.pyplot as plt\n",
    "from EMAN2 import *"
   ]
  },
  {
   "cell_type": "code",
   "execution_count": 2,
   "metadata": {},
   "outputs": [],
   "source": [
    "#### select one GPU when multiple GPUs are present\n",
    "os.environ[\"CUDA_VISIBLE_DEVICES\"]='0' \n",
    "\n",
    "#### do not occupy the entire GPU memory at once\n",
    "##   seems necessary to avoid some errors...\n",
    "os.environ[\"TF_FORCE_GPU_ALLOW_GROWTH\"]='true' \n",
    "\n",
    "#### finally initialize tensorflow\n",
    "import tensorflow as tf"
   ]
  },
  {
   "cell_type": "code",
   "execution_count": 3,
   "metadata": {},
   "outputs": [],
   "source": [
    "#### we will import some functions from e2gmm_refine later\n",
    "emdir=e2getinstalldir()\n",
    "sys.path.insert(0,os.path.join(emdir,'bin'))\n",
    "\n",
    "#### need to unify the float type across tenforflow and numpy\n",
    "##   in theory float16 also works but it can be unsafe especially when the network is deeper...\n",
    "floattype=np.float32"
   ]
  },
  {
   "cell_type": "code",
   "execution_count": 4,
   "metadata": {},
   "outputs": [
    {
     "name": "stdout",
     "output_type": "stream",
     "text": [
      "Gaussian model shape:  (1015, 5)\n"
     ]
    }
   ],
   "source": [
    "#### load the Gaussian model produced by e2gmm_refine.py\n",
    "from e2gmm_refine import get_clip\n",
    "\n",
    "pts=np.loadtxt(\"gmm_00/model_00.txt\").astype(floattype)\n",
    "print(\"Gaussian model shape: \", pts.shape)\n",
    "\n",
    "##   turn model to tensorflow format\n",
    "pts=tf.constant(pts[None,:,:])"
   ]
  },
  {
   "cell_type": "code",
   "execution_count": 6,
   "metadata": {},
   "outputs": [
    {
     "name": "stdout",
     "output_type": "stream",
     "text": [
      "Loading 833 particles of box size 192. shrink to 48\n",
      "833/833    \n",
      "Data read complete\n",
      "Image size:  (833, 48, 25)\n"
     ]
    }
   ],
   "source": [
    "#### load particles and prepare some parameters\n",
    "from e2gmm_refine import load_particles, set_indices_boxsz\n",
    "fname=\"gmm_00/ref_projs.hdf\"\n",
    "\n",
    "##  Fourier box size. will shrink particles accordingly\n",
    "maxboxsz=48 \n",
    "\n",
    "##   load metadata first\n",
    "e=EMData(fname, 0, True)\n",
    "raw_apix, raw_boxsz = e[\"apix_x\"], e[\"ny\"]\n",
    "data_cpx, xfsnp = load_particles(fname, maxboxsz, shuffle=False)\n",
    "\n",
    "print(\"Image size: \", data_cpx[0].shape)\n",
    "\n",
    "##   set up fourier indices for image generation/clipping later\n",
    "##   params is a dictionay that saves matrices for Fourier indexing\n",
    "apix=raw_apix*raw_boxsz/maxboxsz\n",
    "clipid=set_indices_boxsz(data_cpx[0].shape[1], apix, True)\n",
    "params=set_indices_boxsz(maxboxsz)\n",
    "\n",
    "##   create an empty options object that is needed for some functions in e2gmm_refine\n",
    "options=type('options', (object,), {})()\n",
    "options.sym=\"c1\""
   ]
  },
  {
   "cell_type": "code",
   "execution_count": 7,
   "metadata": {},
   "outputs": [
    {
     "name": "stdout",
     "output_type": "stream",
     "text": [
      "0.93224263\n"
     ]
    },
    {
     "data": {
      "image/png": "[encoded data removed]",
      "text/plain": [
       "<Figure size 648x216 with 3 Axes>"
      ]
     },
     "metadata": {
      "needs_background": "light"
     },
     "output_type": "display_data"
    }
   ],
   "source": [
    "#### now generate some images to make sure everything is working properly\n",
    "from e2gmm_refine import pts2img, calc_frc\n",
    "\n",
    "sz=params[\"sz\"]    ## size of image\n",
    "bsz=8              ## batch size\n",
    "\n",
    "##   generate a batch of projection images from the GMM at neutral state\n",
    "##   pts2img produce complex images in (real, imag) format\n",
    "##   turn them into complex numbers and IFT to get the real images\n",
    "ptsx=tf.Variable(tf.repeat(pts, bsz, axis=0))\n",
    "imgs_real, imgs_imag=pts2img(ptsx, xfsnp[:bsz], params, lp=.05)\n",
    "imgs_cpx=imgs_real.numpy().astype(floattype)+1j*imgs_imag.numpy().astype(floattype)\n",
    "imgs_out=np.fft.irfft2(imgs_cpx)\n",
    "\n",
    "##   just show one projection-particle comparison\n",
    "ii=1\n",
    "plt.figure(figsize=(9,3))\n",
    "plt.subplot(1,3,1)\n",
    "plt.imshow(imgs_out[ii], cmap='gray')\n",
    "\n",
    "##   get the complex particle image and IFT to real space\n",
    "dcpx=(data_cpx[0][:bsz], data_cpx[1][:bsz])\n",
    "dcpx=get_clip(dcpx, sz, clipid)\n",
    "dcpx_out=np.fft.irfft2(dcpx[0].numpy()+1j*dcpx[1].numpy())\n",
    "\n",
    "plt.subplot(1,3,2)\n",
    "plt.imshow(dcpx_out[ii], cmap='gray')\n",
    "\n",
    "##   calculate FRC between particle and projection\n",
    "##   the calc_frc function takes complex images in (real, imag) format\n",
    "frc=calc_frc(dcpx, (imgs_real, imgs_imag), params[\"rings\"], True)\n",
    "plt.subplot(1,3,3)\n",
    "plt.plot(frc[ii][1:])\n",
    "fval=calc_frc(dcpx, (imgs_real, imgs_imag), params[\"rings\"])\n",
    "print(np.mean(fval))"
   ]
  },
  {
   "cell_type": "code",
   "execution_count": 13,
   "metadata": {},
   "outputs": [
    {
     "name": "stdout",
     "output_type": "stream",
     "text": [
      "4194 3D particles, each contain 19 2D particles\n"
     ]
    }
   ],
   "source": [
    "#### load the alignment from spt refinement\n",
    "##   make sure we have only one conformation for multiple 2D particles that correspond to one 3D particle\n",
    "alipm=load_lst_params(\"gmm_00/aliptcls2d_00.lst\")\n",
    "pids=np.array([a[\"ptcl3d_id\"] for a in alipm])\n",
    "tids=np.array([a[\"tilt_id\"] for a in alipm])\n",
    "\n",
    "##   here we only use the near center tilts (-20 to +20 degrees)\n",
    "tmid=np.sort(np.unique(tids))\n",
    "tmid=tmid[len(tmid)//2]\n",
    "trg=abs(tids-tmid)<10\n",
    "\n",
    "##   keep track of 3D particles from the 2D ones\n",
    "idx=np.unique(pids)\n",
    "idx3d=[]\n",
    "for i in idx:\n",
    "    idx3d.append(np.where(trg*(pids==i))[0])\n",
    "\n",
    "print(\"{} 3D particles, each contain {} 2D particles\".format(len(idx3d), len(idx3d[0])))"
   ]
  },
  {
   "cell_type": "code",
   "execution_count": 14,
   "metadata": {},
   "outputs": [
    {
     "data": {
      "image/png": "[encoded data removed]",
      "text/plain": [
       "<Figure size 432x288 with 1 Axes>"
      ]
     },
     "metadata": {
      "needs_background": "light"
     },
     "output_type": "display_data"
    }
   ],
   "source": [
    "#### also look at the alignment score and remove the bad particles\n",
    "scr=[]\n",
    "for idx in idx3d:\n",
    "    s=np.mean([alipm[i][\"score\"] for i in idx])\n",
    "    scr.append(s)\n",
    "    \n",
    "plt.hist(scr,20);"
   ]
  },
  {
   "cell_type": "code",
   "execution_count": 31,
   "metadata": {},
   "outputs": [
    {
     "name": "stdout",
     "output_type": "stream",
     "text": [
      "Keeping 3400 particles\n",
      "2D particle size 384, clip to 192\n"
     ]
    }
   ],
   "source": [
    "#### initialize some parameters\n",
    "batchsz=4\n",
    "thr=-0.05\n",
    "i3d=[ix for i,ix in enumerate(idx3d) if scr[i]<thr]\n",
    "\n",
    "##   there are some issues when we do not have a full batch of particles\n",
    "##   so we skip the last few particles\n",
    "n=len(i3d)//batchsz*batchsz\n",
    "i3d=i3d[:n]\n",
    "print(\"Keeping {} particles\".format(len(i3d)))\n",
    "\n",
    "##   box size and apix\n",
    "a=alipm[0]\n",
    "e=EMData(a[\"src\"], a[\"idx\"], True)\n",
    "by=e[\"ny\"]\n",
    "ny=e[\"ny\"]//2\n",
    "\n",
    "e=EMData(fname, 0, True)\n",
    "raw_apix, raw_boxsz = e[\"apix_x\"], e[\"ny\"]\n",
    "apix=raw_apix*raw_boxsz/maxboxsz\n",
    "clipid=set_indices_boxsz(data_cpx[0].shape[1], apix, True)\n",
    "params=set_indices_boxsz(maxboxsz)\n",
    "print(\"2D particle size {}, clip to {}\".format(by, ny))"
   ]
  },
  {
   "cell_type": "code",
   "execution_count": 27,
   "metadata": {
    "scrolled": true
   },
   "outputs": [
    {
     "name": "stdout",
     "output_type": "stream",
     "text": [
      " 3400/3400      \n",
      "Read 64600 2D particles.\n"
     ]
    }
   ],
   "source": [
    "#### now reading actual particles and organize them correctly\n",
    "xfsnp=[]  ## particle projections transforms\n",
    "ptcls=[]  ## 2d particle images\n",
    "p3did=[]  ## indices of 2d particles for each 3d particle\n",
    "apmsample=[]  ## the alignment metadata of the particles\n",
    "\n",
    "for idx in i3d:\n",
    "    apm=[alipm[i] for i in idx]\n",
    "    apmsample.extend(apm)\n",
    "    \n",
    "    pn=np.sum([len(p) for p in ptcls])\n",
    "    p3did.append(np.arange(pn, pn+len(apm), dtype=int))\n",
    "    \n",
    "    ## 2D particles are extra padded. here need to clip them to the 3d particle size\n",
    "    imgs=[EMData(a[\"src\"], a[\"idx\"]) for a in apm]\n",
    "    imgs=[m.get_clip(Region((by-ny)//2, (by-ny)//2, ny,ny)) for m in imgs]\n",
    "    imgs=np.array([p.numpy().copy() for p in imgs], dtype=floattype)/1e3\n",
    "    \n",
    "    ## projection transforms\n",
    "    xfs=[a[\"xform.projection\"].get_params(\"eman\") for a in apm]\n",
    "    xfs=np.array([[x[\"az\"],x[\"alt\"],x[\"phi\"], x[\"tx\"], x[\"ty\"]] for x in xfs], dtype=floattype)\n",
    "    xfs[:,:3]=xfs[:,:3]*np.pi/180.\n",
    "    xfs[:,3:]/=ny\n",
    "    \n",
    "    ptcls.append(imgs)\n",
    "    xfsnp.append(xfs)\n",
    "    \n",
    "    sys.stdout.write(\"\\r {}/{}      \".format(len(ptcls), len(i3d)))\n",
    "    sys.stdout.flush()    \n",
    "\n",
    "print()\n",
    "print(\"Read {} 2D particles.\".format(np.sum([len(p) for p in ptcls])))"
   ]
  },
  {
   "cell_type": "code",
   "execution_count": 32,
   "metadata": {},
   "outputs": [
    {
     "name": "stdout",
     "output_type": "stream",
     "text": [
      "Particle image shape  (64600, 48, 25)\n"
     ]
    }
   ],
   "source": [
    "#### now put together particle images and xforms\n",
    "ptcls=np.concatenate(ptcls, axis=0)\n",
    "xfsnp=np.concatenate(xfsnp, axis=0)\n",
    "\n",
    "##   Fourier transform and clipping\n",
    "data_cpx=np.fft.rfft2(ptcls)\n",
    "data_cpx=(data_cpx.real.astype(floattype), data_cpx.imag.astype(floattype))\n",
    "dcpx=get_clip(data_cpx, sz, clipid)\n",
    "print(\"Particle image shape \", dcpx[0].shape)"
   ]
  },
  {
   "cell_type": "code",
   "execution_count": 35,
   "metadata": {},
   "outputs": [
    {
     "name": "stdout",
     "output_type": "stream",
     "text": [
      "WARNING:tensorflow:From /home/muyuanc/miniconda3/lib/python3.7/site-packages/tensorflow_core/python/ops/array_grad.py:563: _EagerTensorBase.cpu (from tensorflow.python.framework.ops) is deprecated and will be removed in a future version.\n",
      "Instructions for updating:\n",
      "Use tf.identity instead.\n",
      " 3400/3400      (3400, 1015, 5)\n",
      "18.134352\n"
     ]
    }
   ],
   "source": [
    "#### calculating gradient per 3d particle\n",
    "##   use information from 2d particles but compute one gradient per 3d particle\n",
    "conf=np.zeros((1,4), dtype=floattype)\n",
    "allgrds=[]\n",
    "allscr=[]\n",
    "\n",
    "##   treat 2d particles of one 3d particle as a batch for gradient\n",
    "for pid in p3did:\n",
    "    pjr=tf.gather(dcpx[0], pid)\n",
    "    pji=tf.gather(dcpx[1], pid)\n",
    "    xf=xfsnp[pid]\n",
    "    pj_cpx=(pjr, pji)\n",
    "    with tf.GradientTape() as gt:\n",
    "        pt=tf.Variable(pts)\n",
    "        \n",
    "        imgs_cpx=pts2img(tf.repeat(pt, xf.shape[0], axis=0), xf, params)\n",
    "        fval=calc_frc(pj_cpx, imgs_cpx, params[\"rings\"])\n",
    "        loss=-tf.reduce_mean(fval)\n",
    "\n",
    "    grad=gt.gradient(loss, pt)\n",
    "    allscr.append(loss)\n",
    "    allgrds.append(grad)\n",
    "    sys.stdout.write(\"\\r {}/{}      \".format(len(allgrds), len(p3did)))\n",
    "    sys.stdout.flush()\n",
    "    \n",
    "allgrds=np.concatenate(allgrds, axis=0)\n",
    "allgrds=allgrds/np.std(allgrds)\n",
    "print(allgrds.shape)  \n",
    "print(np.max(abs(allgrds.flatten())))"
   ]
  },
  {
   "cell_type": "code",
   "execution_count": 72,
   "metadata": {},
   "outputs": [
    {
     "name": "stdout",
     "output_type": "stream",
     "text": [
      "850 batches total\n"
     ]
    }
   ],
   "source": [
    "#### rearrange gradient and indices for 3d particles\n",
    "##   note we repeat gradient of the 3d particle for each 2d particle\n",
    "\n",
    "batchsz=4 ## here batch size is for 3d particles\n",
    "batchids=[]\n",
    "ag=allgrds\n",
    "\n",
    "nbatch=len(p3did)//batchsz\n",
    "grds=[]\n",
    "iis=[]\n",
    "for i in range(nbatch):\n",
    "    ii=p3did[i*batchsz:(i+1)*batchsz]\n",
    "\n",
    "    grd=ag[i*batchsz:(i+1)*batchsz]\n",
    "    grd=[np.repeat(grd[j:j+1], len(p), axis=0)  for j,p in enumerate(ii)]\n",
    "    grd=np.concatenate(grd)\n",
    "    ii=np.concatenate(ii)\n",
    "    \n",
    "    grds.append(tf.constant(grd))\n",
    "    iis.append(tf.constant(ii))\n",
    "    \n",
    "print(\"{} batches total\".format(len(grds)))"
   ]
  },
  {
   "cell_type": "code",
   "execution_count": 56,
   "metadata": {},
   "outputs": [
    {
     "name": "stdout",
     "output_type": "stream",
     "text": [
      "Latent space shape:  (8, 4)\n",
      "Output shape:  (8, 1015, 5)\n",
      "Deviation from neutral model:  2.7271499e-06\n"
     ]
    }
   ],
   "source": [
    "#### now build the deep networks and do some test\n",
    "from e2gmm_refine import build_encoder, build_decoder\n",
    "\n",
    "nmid=4     ## size of latent space\n",
    "conv=True  ## convolution mode, should be more powerful\n",
    "\n",
    "##   build the actual network\n",
    "encode_model=build_encoder(nout=nmid, conv=conv)\n",
    "decode_model=build_decoder(pts[0].numpy(), ninp=nmid, conv=conv)\n",
    "\n",
    "##   test the network to make sure they are function properly\n",
    "##   before training, they should output GMMs that are very close to the neutral GMM\n",
    "mid=encode_model(allgrds[:bsz])\n",
    "print(\"Latent space shape: \", mid.shape)\n",
    "out=decode_model(mid)\n",
    "print(\"Output shape: \",out.shape)\n",
    "print(\"Deviation from neutral model: \", np.mean(abs(out-pts)))\n"
   ]
  },
  {
   "cell_type": "code",
   "execution_count": 57,
   "metadata": {},
   "outputs": [],
   "source": [
    "#### neural network training parameters\n",
    "pas=[1,1,0]\n",
    "pas=[int(i) for i in pas]\n",
    "pas=tf.constant(np.array([pas[0],pas[0],pas[0],pas[1],pas[2]], dtype=floattype))\n",
    "\n",
    "opt=tf.keras.optimizers.Adam(learning_rate=1e-4) \n",
    "wts=encode_model.trainable_variables\n",
    "wts+=decode_model.trainable_variables\n",
    "xfall=tf.constant(xfsnp)\n",
    "nbatch=len(p3did)//batchsz"
   ]
  },
  {
   "cell_type": "code",
   "execution_count": 58,
   "metadata": {},
   "outputs": [
    {
     "name": "stdout",
     "output_type": "stream",
     "text": [
      "iter 0, loss : -0.1493  \n",
      "iter 1, loss : -0.1503  \n",
      "iter 2, loss : -0.1518  \n",
      "iter 3, loss : -0.1532  \n",
      "iter 4, loss : -0.1539  \n"
     ]
    }
   ],
   "source": [
    "#### Main training loop\n",
    "for itr in range(5):\n",
    "    cost=[]\n",
    "    for i in range(nbatch):\n",
    "        \n",
    "        ## gather 2d particle info for the batch of 3d particles\n",
    "        ## we waste computational power here since the gradient for the same 3d particle would be the same\n",
    "        ## the encoder/decoder would have the same output for each 3d particle other than the randomness\n",
    "        ## quite wasting but easier to manage..\n",
    "        grd=grds[i]\n",
    "        ii=iis[i]\n",
    "        pjr=tf.gather(dcpx[0], ii)\n",
    "        pji=tf.gather(dcpx[1], ii)\n",
    "        xf=tf.gather(xfall,  ii)\n",
    "        pj_cpx=(pjr, pji)\n",
    "\n",
    "\n",
    "        with tf.GradientTape() as gt:\n",
    "            conf=encode_model(grd, training=True)\n",
    "            \n",
    "            ## regularization of the latent layer range\n",
    "            ## ideally the output is within a 1-radius circle\n",
    "            ## but we want to make the contraint more soft so it won't affect convergence\n",
    "            cl=tf.math.sqrt(tf.reduce_sum(conf**2, axis=1))\n",
    "            cl=tf.reduce_mean(tf.maximum(cl-1,0))\n",
    "                      \n",
    "            ## preturb the conformation by a random value\n",
    "            ## similar to the variational autoencoder, but we do not train the sigma of the random value here\n",
    "            ## since we control the radius of latent space already, this seems enough\n",
    "            conf=.1*tf.random.normal(conf.shape)+conf\n",
    "            pout=decode_model(conf, training=True)\n",
    "            \n",
    "            p0=tf.zeros((xf.shape[0],len(pts), 5))+pts\n",
    "            pout=pout*pas+p0*(1-pas)\n",
    "            \n",
    "            ## finally generate images and calculate frc\n",
    "            imgs_cpx=pts2img(pout, xf, params)\n",
    "            fval=calc_frc(pj_cpx, imgs_cpx, params[\"rings\"])\n",
    "            loss=-tf.reduce_mean(fval)+cl*1e-2\n",
    "        \n",
    "        cost.append(loss)   \n",
    "        grad=gt.gradient(loss, wts)\n",
    "        opt.apply_gradients(zip(grad, wts))\n",
    "        sys.stdout.write(\"\\r {}/{}\\t{:.3f}         \".format(len(cost), nbatch, loss))\n",
    "        sys.stdout.flush()\n",
    "\n",
    "    sys.stdout.write(\"\\r\")\n",
    "\n",
    "    print(\"iter {}, loss : {:.4f}\".format(itr, np.mean(cost)))"
   ]
  },
  {
   "cell_type": "code",
   "execution_count": 63,
   "metadata": {},
   "outputs": [
    {
     "data": {
      "text/plain": [
       "<matplotlib.collections.PathCollection at 0x7f7e9c8a27d0>"
      ]
     },
     "execution_count": 63,
     "metadata": {},
     "output_type": "execute_result"
    },
    {
     "data": {
      "image/png": "[encoded data removed]",
      "text/plain": [
       "<Figure size 432x288 with 1 Axes>"
      ]
     },
     "metadata": {
      "needs_background": "light"
     },
     "output_type": "display_data"
    }
   ],
   "source": [
    "#### look at the latent space\n",
    "##   here we apply the network to the gradient of 3d particles\n",
    "from sklearn.decomposition import PCA\n",
    "mid=encode_model(allgrds)\n",
    "\n",
    "## do pca on the latent space for better visualization\n",
    "pca=PCA(2)\n",
    "p2=pca.fit_transform(mid)\n",
    "\n",
    "plt.scatter(p2[:,0], p2[:,1],s=2,  alpha=.5)"
   ]
  },
  {
   "cell_type": "code",
   "execution_count": 64,
   "metadata": {},
   "outputs": [
    {
     "data": {
      "image/png": "[encoded data removed]",
      "text/plain": [
       "<Figure size 432x288 with 1 Axes>"
      ]
     },
     "metadata": {
      "needs_background": "light"
     },
     "output_type": "display_data"
    }
   ],
   "source": [
    "#### classification\n",
    "from sklearn import mixture\n",
    "clust = mixture.GaussianMixture(2)\n",
    "lbs=clust.fit_predict(p2[:,:2])\n",
    "for l in np.unique(lbs):\n",
    "    i=lbs==l\n",
    "    plt.scatter(p2[i,0], p2[i,1],s=2, alpha=.5);"
   ]
  },
  {
   "cell_type": "code",
   "execution_count": 65,
   "metadata": {},
   "outputs": [
    {
     "name": "stdout",
     "output_type": "stream",
     "text": [
      "Class 0 : 26771 particles\n",
      "Class 1 : 37829 particles\n"
     ]
    }
   ],
   "source": [
    "#### generate particles subsets from classification\n",
    "from EMAN2_utils import load_lst_params, save_lst_params\n",
    "\n",
    "for l in np.unique(lbs):\n",
    "    ii=np.where(lbs==l)[0]\n",
    "    ii=np.concatenate([p3did[i] for i in ii])\n",
    "    apm=[apmsample[i] for i in ii]\n",
    "    print(\"Class {} : {} particles\".format(l, len(apm)))\n",
    "    save_lst_params(apm, \"gmm_00/ptcl_cls_{:02d}.lst\".format(l))"
   ]
  },
  {
   "cell_type": "code",
   "execution_count": 66,
   "metadata": {},
   "outputs": [],
   "source": [
    "#### reconstruct particles for each class\n",
    "for i in np.unique(lbs):\n",
    "    launch_childprocess(\"e2spa_make3d.py --input gmm_00/ptcl_cls_{:02d}.lst --output gmm_00/threed_cls_{:02d}.hdf --keep 1 --parallel thread:12 --setsf emd_sf.txt --outsize {}\".format(i,i, ny))"
   ]
  },
  {
   "cell_type": "code",
   "execution_count": null,
   "metadata": {},
   "outputs": [],
   "source": []
  }
 ],
 "metadata": {
  "kernelspec": {
   "display_name": "Python 3",
   "language": "python",
   "name": "python3"
  },
  "language_info": {
   "codemirror_mode": {
    "name": "ipython",
    "version": 3
   },
   "file_extension": ".py",
   "mimetype": "text/x-python",
   "name": "python",
   "nbconvert_exporter": "python",
   "pygments_lexer": "ipython3",
   "version": "3.7.6"
  }
 },
 "nbformat": 4,
 "nbformat_minor": 4
}
