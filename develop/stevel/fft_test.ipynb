{
 "cells": [
  {
   "cell_type": "code",
   "execution_count": null,
   "id": "73d62603-f3bd-4e22-9177-df6da0c88586",
   "metadata": {},
   "outputs": [],
   "source": [
    "#import os \n",
    "#os.environ[\"TF_GPU_ALLOCATOR\"] = \"cuda_malloc_async\"\n",
    "from EMAN2 import *\n",
    "import numpy as np\n",
    "import tensorflow as tf\n",
    "\n",
    "gpus = tf.config.experimental.list_physical_devices('GPU')\n",
    "tf.config.experimental.set_virtual_device_configuration(gpus[0],[tf.config.experimental.VirtualDeviceConfiguration(memory_limit=4096)])\n",
    "logical_gpus = tf.config.experimental.list_logical_devices('GPU')\n",
    "print(len(gpus), \"Physical GPUs,\", len(logical_gpus), \"Logical GPUs\")"
   ]
  },
  {
   "cell_type": "code",
   "execution_count": null,
   "id": "6893efa8-7561-4bb8-a893-538f054a2c38",
   "metadata": {},
   "outputs": [],
   "source": []
  },
  {
   "cell_type": "code",
   "execution_count": null,
   "id": "621190fc-0135-4b98-a0fa-8ca2cb7f26be",
   "metadata": {},
   "outputs": [],
   "source": [
    "# allocate 1000 test images as EMData objects\n",
    "imgs=[test_image(size=(256,256)) for i in range(1000)]"
   ]
  },
  {
   "cell_type": "code",
   "execution_count": null,
   "id": "a95ddcda-572f-4c4c-b080-66d86db56dca",
   "metadata": {},
   "outputs": [],
   "source": [
    "# convert the list to a single 1000x256x256 numpy array\n",
    "imgsnp=np.stack([to_numpy(i) for i in imgs],axis=0)"
   ]
  },
  {
   "cell_type": "code",
   "execution_count": null,
   "id": "2cb0d27d-fee1-48e1-9347-33774e22b436",
   "metadata": {},
   "outputs": [],
   "source": [
    "# numpy -> tensorflow\n",
    "imgstf=tf.constant(imgsnp)"
   ]
  },
  {
   "cell_type": "code",
   "execution_count": null,
   "id": "30c6528b-42a1-48a7-9356-b7e0bc58e1bf",
   "metadata": {},
   "outputs": [],
   "source": []
  },
  {
   "cell_type": "code",
   "execution_count": null,
   "id": "bf2f5e68-b224-452a-8e85-e87a3111776b",
   "metadata": {},
   "outputs": [],
   "source": [
    "%timeit fftstf=tf.signal.rfft(imgstf)"
   ]
  },
  {
   "cell_type": "code",
   "execution_count": null,
   "id": "54845bf9-7f54-434b-addc-9ff4eb777bfd",
   "metadata": {},
   "outputs": [],
   "source": [
    "%timeit ffts=[i.do_fft() for i in imgs]"
   ]
  },
  {
   "cell_type": "code",
   "execution_count": null,
   "id": "ecf1dee7-ed69-402e-bea1-72fdba72d048",
   "metadata": {},
   "outputs": [],
   "source": [
    "%timeit fftsnp=np.fft.rfft2(imgsnp)"
   ]
  }
 ],
 "metadata": {
  "kernelspec": {
   "display_name": "Python 3 (ipykernel)",
   "language": "python",
   "name": "python3"
  },
  "language_info": {
   "codemirror_mode": {
    "name": "ipython",
    "version": 3
   },
   "file_extension": ".py",
   "mimetype": "text/x-python",
   "name": "python",
   "nbconvert_exporter": "python",
   "pygments_lexer": "ipython3",
   "version": "3.9.13"
  }
 },
 "nbformat": 4,
 "nbformat_minor": 5
}
