{
 "cells": [
  {
   "cell_type": "code",
   "execution_count": 34,
   "id": "73d62603-f3bd-4e22-9177-df6da0c88586",
   "metadata": {
    "tags": []
   },
   "outputs": [
    {
     "name": "stdout",
     "output_type": "stream",
     "text": [
      "1 Physical GPUs, 1 Logical GPUs\n"
     ]
    }
   ],
   "source": [
    "#import os \n",
    "#os.environ[\"TF_GPU_ALLOCATOR\"] = \"cuda_malloc_async\"\n",
    "from EMAN2 import *\n",
    "import numpy as np\n",
    "import tensorflow as tf\n",
    "import math\n",
    "\n",
    "gpus = tf.config.experimental.list_physical_devices('GPU')\n",
    "tf.config.experimental.set_virtual_device_configuration(gpus[0],[tf.config.experimental.VirtualDeviceConfiguration(memory_limit=4096)])\n",
    "logical_gpus = tf.config.experimental.list_logical_devices('GPU')\n",
    "print(len(gpus), \"Physical GPUs,\", len(logical_gpus), \"Logical GPUs\")"
   ]
  },
  {
   "cell_type": "code",
   "execution_count": null,
   "id": "6893efa8-7561-4bb8-a893-538f054a2c38",
   "metadata": {},
   "outputs": [],
   "source": []
  },
  {
   "cell_type": "code",
   "execution_count": 2,
   "id": "621190fc-0135-4b98-a0fa-8ca2cb7f26be",
   "metadata": {
    "tags": []
   },
   "outputs": [],
   "source": [
    "# allocate 1000 test images as EMData objects\n",
    "imgs=[test_image(size=(256,256)) for i in range(1000)]\n",
    "for i in range(1000): imgs[i].add(test_image(1,size=(256,256)))\n",
    "\n",
    "# convert the list to a single 1000x256x256 numpy array\n",
    "imgsnp=np.stack([to_numpy(i) for i in imgs],axis=0)\n",
    "\n",
    "# numpy -> tensorflow\n",
    "imgstf=tf.constant(imgsnp)"
   ]
  },
  {
   "cell_type": "code",
   "execution_count": null,
   "id": "30c6528b-42a1-48a7-9356-b7e0bc58e1bf",
   "metadata": {
    "tags": []
   },
   "outputs": [],
   "source": []
  },
  {
   "cell_type": "code",
   "execution_count": 27,
   "id": "bf2f5e68-b224-452a-8e85-e87a3111776b",
   "metadata": {
    "tags": []
   },
   "outputs": [
    {
     "name": "stdout",
     "output_type": "stream",
     "text": [
      "1.15 ms ± 82.4 ns per loop (mean ± std. dev. of 7 runs, 1,000 loops each)\n"
     ]
    }
   ],
   "source": [
    "%timeit fftstf=tf.signal.rfft2d(imgstf)"
   ]
  },
  {
   "cell_type": "code",
   "execution_count": 9,
   "id": "54845bf9-7f54-434b-addc-9ff4eb777bfd",
   "metadata": {
    "tags": []
   },
   "outputs": [
    {
     "name": "stdout",
     "output_type": "stream",
     "text": [
      "181 ms ± 165 µs per loop (mean ± std. dev. of 7 runs, 1 loop each)\n"
     ]
    }
   ],
   "source": [
    "%timeit ffts=[i.do_fft() for i in imgs]"
   ]
  },
  {
   "cell_type": "code",
   "execution_count": 8,
   "id": "ecf1dee7-ed69-402e-bea1-72fdba72d048",
   "metadata": {
    "tags": []
   },
   "outputs": [
    {
     "name": "stdout",
     "output_type": "stream",
     "text": [
      "584 ms ± 6.73 ms per loop (mean ± std. dev. of 7 runs, 1 loop each)\n"
     ]
    }
   ],
   "source": [
    "%timeit fftsnp=np.fft.rfft2(imgsnp)"
   ]
  },
  {
   "cell_type": "code",
   "execution_count": 15,
   "id": "afc94539-816e-4fd9-bdbd-2a6c9ee364cf",
   "metadata": {
    "tags": []
   },
   "outputs": [],
   "source": []
  },
  {
   "cell_type": "code",
   "execution_count": 3,
   "id": "c96ecb24-676c-4587-aacb-c55312a50ff3",
   "metadata": {
    "tags": []
   },
   "outputs": [],
   "source": [
    "cat=np.concatenate\n",
    "# compute the 2-D FFT of each image\n",
    "fftstf=tf.signal.rfft2d(imgstf)\n",
    "\n",
    "# downsample via Fourier cropping\n",
    "fftsclpy=tf.gather(fftstf,cat((np.arange(64),np.arange(192,256))),axis=1)\n",
    "fftsclp=fftsclpy[:,:,:65]"
   ]
  },
  {
   "cell_type": "code",
   "execution_count": 4,
   "id": "254518d2-88fe-4467-aa87-4490a6e35691",
   "metadata": {
    "tags": []
   },
   "outputs": [],
   "source": [
    "# invert the FFT to get the downsampled real-space images\n",
    "smaller=tf.signal.irfft2d(fftsclp)"
   ]
  },
  {
   "cell_type": "code",
   "execution_count": 30,
   "id": "cdac9039-d58d-46f4-bbca-c55a1e42ef3c",
   "metadata": {
    "tags": []
   },
   "outputs": [
    {
     "data": {
      "text/plain": [
       "1000"
      ]
     },
     "execution_count": 30,
     "metadata": {},
     "output_type": "execute_result"
    }
   ],
   "source": []
  },
  {
   "cell_type": "code",
   "execution_count": 6,
   "id": "3aeccbda-7bf4-4292-a5a1-a67f16ea9f57",
   "metadata": {
    "tags": []
   },
   "outputs": [],
   "source": [
    "# back to EMData\n",
    "imgsh=[from_tf(smaller[i]) for i in range(1000)]"
   ]
  },
  {
   "cell_type": "code",
   "execution_count": 7,
   "id": "c871f397-c697-4637-9d28-a4e3f93e1932",
   "metadata": {
    "tags": []
   },
   "outputs": [
    {
     "ename": "RuntimeError",
     "evalue": "",
     "output_type": "error",
     "traceback": [
      "\u001b[0;31m---------------------------------------------------------------------------\u001b[0m",
      "\u001b[0;31mRuntimeError\u001b[0m                              Traceback (most recent call last)",
      "Cell \u001b[0;32mIn[7], line 1\u001b[0m\n\u001b[0;32m----> 1\u001b[0m \u001b[43mEMData\u001b[49m\u001b[38;5;241;43m.\u001b[39;49m\u001b[43mwrite_images\u001b[49m\u001b[43m(\u001b[49m\u001b[38;5;124;43m\"\u001b[39;49m\u001b[38;5;124;43mxx.hdf:8\u001b[39;49m\u001b[38;5;124;43m\"\u001b[39;49m\u001b[43m,\u001b[49m\u001b[43mimgsh\u001b[49m\u001b[43m)\u001b[49m\n\u001b[1;32m      2\u001b[0m \u001b[38;5;66;03m#for i in range(1000): imgsh[i].write_image(\"x.hdf:8\",i)\u001b[39;00m\n",
      "\u001b[0;31mRuntimeError\u001b[0m: "
     ]
    }
   ],
   "source": [
    "EMData.write_images(\"xx.hdf:8\",imgsh)\n",
    "#for i in range(1000): imgsh[i].write_image(\"x.hdf:8\",i)"
   ]
  },
  {
   "cell_type": "code",
   "execution_count": 26,
   "id": "7b423496-b6af-417a-8c0e-b16929cdd8df",
   "metadata": {
    "tags": []
   },
   "outputs": [
    {
     "data": {
      "text/plain": [
       "libpyEMData2.EMData"
      ]
     },
     "execution_count": 26,
     "metadata": {},
     "output_type": "execute_result"
    }
   ],
   "source": [
    "type(imgs[0])"
   ]
  },
  {
   "cell_type": "code",
   "execution_count": 58,
   "id": "1f2de054-57ac-489e-b76a-b0439413c921",
   "metadata": {
    "tags": []
   },
   "outputs": [
    {
     "data": {
      "text/plain": [
       "array([[0, 1, 2, 3, 4, 5],\n",
       "       [1, 1, 2, 3, 4, 5],\n",
       "       [2, 2, 2, 3, 4, 5],\n",
       "       [3, 3, 3, 4, 5, 5],\n",
       "       [4, 4, 4, 5, 5, 6],\n",
       "       [5, 5, 5, 5, 6, 7]], dtype=int32)"
      ]
     },
     "execution_count": 58,
     "metadata": {},
     "output_type": "execute_result"
    }
   ],
   "source": [
    "ary=np.fromfunction(lambda x,y: np.int32(np.hypot(x,y)), (6,6))\n",
    "ary"
   ]
  },
  {
   "cell_type": "code",
   "execution_count": null,
   "id": "f0f237f8-2c80-4c95-8d8c-db2fede5d7ca",
   "metadata": {},
   "outputs": [],
   "source": [
    "def fsc(f1,f2):\n",
    "    "
   ]
  },
  {
   "cell_type": "code",
   "execution_count": 13,
   "id": "c827229a-3c34-44af-9aa4-79bd924c99d0",
   "metadata": {
    "tags": []
   },
   "outputs": [
    {
     "data": {
      "text/plain": [
       "3"
      ]
     },
     "execution_count": 13,
     "metadata": {},
     "output_type": "execute_result"
    }
   ],
   "source": [
    "fftstf.ndim"
   ]
  },
  {
   "cell_type": "code",
   "execution_count": 20,
   "id": "994d274d-c64b-49af-a6a3-7b792243a232",
   "metadata": {
    "tags": []
   },
   "outputs": [
    {
     "data": {
      "text/plain": [
       "[1.0, 0.0, 0.0, 0.0, 0.0, 1.0, 0.0, 0.0, 0.0, 0.0, 1.0, 0.0]"
      ]
     },
     "execution_count": 20,
     "metadata": {},
     "output_type": "execute_result"
    }
   ],
   "source": [
    "t=Transform()\n",
    "t.get_matrix()"
   ]
  },
  {
   "cell_type": "code",
   "execution_count": 83,
   "id": "6a3350dc-4e2a-4d3d-b8a9-babeaa78aa1a",
   "metadata": {
    "tags": []
   },
   "outputs": [],
   "source": [
    "ny=16\n",
    "ary=tf.constant(np.vstack((np.fromfunction(lambda y,x: np.int32(np.hypot(x,y)),(ny//2,ny//2+1)),np.fromfunction(lambda y,x: np.int32(np.hypot(x,ny//2-y)),(ny//2,ny//2+1)))))"
   ]
  },
  {
   "cell_type": "code",
   "execution_count": 84,
   "id": "d41316ba-da47-41ec-bda0-e9e7c42503e9",
   "metadata": {
    "tags": []
   },
   "outputs": [
    {
     "data": {
      "text/plain": [
       "<tf.Tensor: shape=(16, 9), dtype=int32, numpy=\n",
       "array([[ 0,  1,  2,  3,  4,  5,  6,  7,  8],\n",
       "       [ 1,  1,  2,  3,  4,  5,  6,  7,  8],\n",
       "       [ 2,  2,  2,  3,  4,  5,  6,  7,  8],\n",
       "       [ 3,  3,  3,  4,  5,  5,  6,  7,  8],\n",
       "       [ 4,  4,  4,  5,  5,  6,  7,  8,  8],\n",
       "       [ 5,  5,  5,  5,  6,  7,  7,  8,  9],\n",
       "       [ 6,  6,  6,  6,  7,  7,  8,  9, 10],\n",
       "       [ 7,  7,  7,  7,  8,  8,  9,  9, 10],\n",
       "       [ 8,  8,  8,  8,  8,  9, 10, 10, 11],\n",
       "       [ 7,  7,  7,  7,  8,  8,  9,  9, 10],\n",
       "       [ 6,  6,  6,  6,  7,  7,  8,  9, 10],\n",
       "       [ 5,  5,  5,  5,  6,  7,  7,  8,  9],\n",
       "       [ 4,  4,  4,  5,  5,  6,  7,  8,  8],\n",
       "       [ 3,  3,  3,  4,  5,  5,  6,  7,  8],\n",
       "       [ 2,  2,  2,  3,  4,  5,  6,  7,  8],\n",
       "       [ 1,  1,  2,  3,  4,  5,  6,  7,  8]], dtype=int32)>"
      ]
     },
     "execution_count": 84,
     "metadata": {},
     "output_type": "execute_result"
    }
   ],
   "source": [
    "ary"
   ]
  },
  {
   "cell_type": "code",
   "execution_count": 85,
   "id": "81690c72-4649-4d0c-8bad-166ddc920459",
   "metadata": {
    "tags": []
   },
   "outputs": [],
   "source": [
    "fary=tf.signal.rfft2d(np.fromfunction(lambda y,x:x+y,(16,16)))"
   ]
  },
  {
   "cell_type": "code",
   "execution_count": 86,
   "id": "d1a6b422-675f-4c5c-aec6-e8b51a1b6e4b",
   "metadata": {
    "tags": []
   },
   "outputs": [
    {
     "data": {
      "text/plain": [
       "<tf.Tensor: shape=(16, 9), dtype=complex64, numpy=\n",
       "array([[3840.        +0.j      , -128.      +643.49945j ,\n",
       "        -127.99999 +309.01932j , -127.999985+191.56552j ,\n",
       "        -128.      +128.j      , -128.       +85.52687j ,\n",
       "        -128.       +53.019325j, -128.       +25.460785j,\n",
       "        -128.        +0.j      ],\n",
       "       [-127.99999 +643.4995j  ,    0.        +0.j      ,\n",
       "           0.        +0.j      ,    0.        +0.j      ,\n",
       "           0.        +0.j      ,    0.        +0.j      ,\n",
       "           0.        +0.j      ,    0.        +0.j      ,\n",
       "           0.        +0.j      ],\n",
       "       [-128.      +309.01935j ,    0.        +0.j      ,\n",
       "           0.        +0.j      ,    0.        +0.j      ,\n",
       "           0.        +0.j      ,    0.        +0.j      ,\n",
       "           0.        +0.j      ,    0.        +0.j      ,\n",
       "           0.        +0.j      ],\n",
       "       [-128.      +191.56554j ,    0.        +0.j      ,\n",
       "           0.        +0.j      ,    0.        +0.j      ,\n",
       "           0.        +0.j      ,    0.        +0.j      ,\n",
       "           0.        +0.j      ,    0.        +0.j      ,\n",
       "           0.        +0.j      ],\n",
       "       [-128.      +128.j      ,    0.        +0.j      ,\n",
       "           0.        +0.j      ,    0.        +0.j      ,\n",
       "           0.        +0.j      ,    0.        +0.j      ,\n",
       "           0.        +0.j      ,    0.        +0.j      ,\n",
       "           0.        +0.j      ],\n",
       "       [-128.       +85.52687j ,    0.        +0.j      ,\n",
       "           0.        +0.j      ,    0.        +0.j      ,\n",
       "           0.        +0.j      ,    0.        +0.j      ,\n",
       "           0.        +0.j      ,    0.        +0.j      ,\n",
       "           0.        +0.j      ],\n",
       "       [-128.       +53.019333j,    0.        +0.j      ,\n",
       "           0.        +0.j      ,    0.        +0.j      ,\n",
       "           0.        +0.j      ,    0.        +0.j      ,\n",
       "           0.        +0.j      ,    0.        +0.j      ,\n",
       "           0.        +0.j      ],\n",
       "       [-128.       +25.460785j,    0.        +0.j      ,\n",
       "           0.        +0.j      ,    0.        +0.j      ,\n",
       "           0.        +0.j      ,    0.        +0.j      ,\n",
       "           0.        +0.j      ,    0.        +0.j      ,\n",
       "           0.        +0.j      ],\n",
       "       [-128.        +0.j      ,    0.        +0.j      ,\n",
       "           0.        +0.j      ,    0.        +0.j      ,\n",
       "           0.        +0.j      ,    0.        +0.j      ,\n",
       "           0.        +0.j      ,    0.        +0.j      ,\n",
       "           0.        +0.j      ],\n",
       "       [-128.       -25.460785j,    0.        +0.j      ,\n",
       "           0.        +0.j      ,    0.        +0.j      ,\n",
       "           0.        +0.j      ,    0.        +0.j      ,\n",
       "           0.        +0.j      ,    0.        +0.j      ,\n",
       "           0.        +0.j      ],\n",
       "       [-128.       -53.019333j,    0.        +0.j      ,\n",
       "           0.        +0.j      ,    0.        +0.j      ,\n",
       "           0.        +0.j      ,    0.        +0.j      ,\n",
       "           0.        +0.j      ,    0.        +0.j      ,\n",
       "           0.        +0.j      ],\n",
       "       [-128.       -85.52687j ,    0.        +0.j      ,\n",
       "           0.        +0.j      ,    0.        +0.j      ,\n",
       "           0.        +0.j      ,    0.        +0.j      ,\n",
       "           0.        +0.j      ,    0.        +0.j      ,\n",
       "           0.        +0.j      ],\n",
       "       [-128.      -128.j      ,    0.        +0.j      ,\n",
       "           0.        +0.j      ,    0.        +0.j      ,\n",
       "           0.        +0.j      ,    0.        +0.j      ,\n",
       "           0.        +0.j      ,    0.        +0.j      ,\n",
       "           0.        +0.j      ],\n",
       "       [-128.      -191.56554j ,    0.        +0.j      ,\n",
       "           0.        +0.j      ,    0.        +0.j      ,\n",
       "           0.        +0.j      ,    0.        +0.j      ,\n",
       "           0.        +0.j      ,    0.        +0.j      ,\n",
       "           0.        +0.j      ],\n",
       "       [-128.      -309.01935j ,    0.        +0.j      ,\n",
       "           0.        +0.j      ,    0.        +0.j      ,\n",
       "           0.        +0.j      ,    0.        +0.j      ,\n",
       "           0.        +0.j      ,    0.        +0.j      ,\n",
       "           0.        +0.j      ],\n",
       "       [-127.99999 -643.4995j  ,    0.        +0.j      ,\n",
       "           0.        +0.j      ,    0.        +0.j      ,\n",
       "           0.        +0.j      ,    0.        +0.j      ,\n",
       "           0.        +0.j      ,    0.        +0.j      ,\n",
       "           0.        +0.j      ]], dtype=complex64)>"
      ]
     },
     "execution_count": 86,
     "metadata": {},
     "output_type": "execute_result"
    }
   ],
   "source": [
    "fary"
   ]
  },
  {
   "cell_type": "code",
   "execution_count": null,
   "id": "3cb1e5dc-4f0d-4f94-80a6-b24269d351c6",
   "metadata": {},
   "outputs": [],
   "source": []
  }
 ],
 "metadata": {
  "kernelspec": {
   "display_name": "Python 3 (ipykernel)",
   "language": "python",
   "name": "python3"
  },
  "language_info": {
   "codemirror_mode": {
    "name": "ipython",
    "version": 3
   },
   "file_extension": ".py",
   "mimetype": "text/x-python",
   "name": "python",
   "nbconvert_exporter": "python",
   "pygments_lexer": "ipython3",
   "version": "3.9.16"
  }
 },
 "nbformat": 4,
 "nbformat_minor": 5
}
