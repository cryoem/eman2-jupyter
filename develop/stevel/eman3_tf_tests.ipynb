{
 "cells": [
  {
   "cell_type": "code",
   "execution_count": 1,
   "id": "ffd6af5e-f43b-4199-b7ea-871809352fdd",
   "metadata": {},
   "outputs": [
    {
     "name": "stderr",
     "output_type": "stream",
     "text": [
      "2024-04-26 07:08:49.514758: I tensorflow/core/platform/cpu_feature_guard.cc:182] This TensorFlow binary is optimized to use available CPU instructions in performance-critical operations.\n",
      "To enable the following instructions: SSE4.1 SSE4.2 AVX AVX2 FMA, in other operations, rebuild TensorFlow with the appropriate compiler flags.\n",
      "2024-04-26 07:08:51.174096: I tensorflow/compiler/xla/stream_executor/cuda/cuda_gpu_executor.cc:996] successful NUMA node read from SysFS had negative value (-1), but there must be at least one NUMA node, so returning NUMA node zero. See more at https://github.com/torvalds/linux/blob/v6.0/Documentation/ABI/testing/sysfs-bus-pci#L344-L355\n",
      "2024-04-26 07:08:51.201701: I tensorflow/compiler/xla/stream_executor/cuda/cuda_gpu_executor.cc:996] successful NUMA node read from SysFS had negative value (-1), but there must be at least one NUMA node, so returning NUMA node zero. See more at https://github.com/torvalds/linux/blob/v6.0/Documentation/ABI/testing/sysfs-bus-pci#L344-L355\n",
      "2024-04-26 07:08:51.201972: I tensorflow/compiler/xla/stream_executor/cuda/cuda_gpu_executor.cc:996] successful NUMA node read from SysFS had negative value (-1), but there must be at least one NUMA node, so returning NUMA node zero. See more at https://github.com/torvalds/linux/blob/v6.0/Documentation/ABI/testing/sysfs-bus-pci#L344-L355\n",
      "2024-04-26 07:08:51.209116: I tensorflow/compiler/xla/stream_executor/cuda/cuda_gpu_executor.cc:996] successful NUMA node read from SysFS had negative value (-1), but there must be at least one NUMA node, so returning NUMA node zero. See more at https://github.com/torvalds/linux/blob/v6.0/Documentation/ABI/testing/sysfs-bus-pci#L344-L355\n",
      "2024-04-26 07:08:51.209312: I tensorflow/compiler/xla/stream_executor/cuda/cuda_gpu_executor.cc:996] successful NUMA node read from SysFS had negative value (-1), but there must be at least one NUMA node, so returning NUMA node zero. See more at https://github.com/torvalds/linux/blob/v6.0/Documentation/ABI/testing/sysfs-bus-pci#L344-L355\n",
      "2024-04-26 07:08:51.209614: I tensorflow/compiler/xla/stream_executor/cuda/cuda_gpu_executor.cc:996] successful NUMA node read from SysFS had negative value (-1), but there must be at least one NUMA node, so returning NUMA node zero. See more at https://github.com/torvalds/linux/blob/v6.0/Documentation/ABI/testing/sysfs-bus-pci#L344-L355\n",
      "2024-04-26 07:08:51.281186: I tensorflow/compiler/xla/stream_executor/cuda/cuda_gpu_executor.cc:996] successful NUMA node read from SysFS had negative value (-1), but there must be at least one NUMA node, so returning NUMA node zero. See more at https://github.com/torvalds/linux/blob/v6.0/Documentat"
     ]
    },
    {
     "data": {
      "text/plain": [
       "<tensorflow.python.eager.context._EagerDeviceContext at 0x7a0dd4b2f340>"
      ]
     },
     "execution_count": 1,
     "metadata": {},
     "output_type": "execute_result"
    },
    {
     "name": "stderr",
     "output_type": "stream",
     "text": [
      "ion/ABI/testing/sysfs-bus-pci#L344-L355\n",
      "2024-04-26 07:08:51.281413: I tensorflow/compiler/xla/stream_executor/cuda/cuda_gpu_executor.cc:996] successful NUMA node read from SysFS had negative value (-1), but there must be at least one NUMA node, so returning NUMA node zero. See more at https://github.com/torvalds/linux/blob/v6.0/Documentation/ABI/testing/sysfs-bus-pci#L344-L355\n",
      "2024-04-26 07:08:51.281591: I tensorflow/compiler/xla/stream_executor/cuda/cuda_gpu_executor.cc:996] successful NUMA node read from SysFS had negative value (-1), but there must be at least one NUMA node, so returning NUMA node zero. See more at https://github.com/torvalds/linux/blob/v6.0/Documentation/ABI/testing/sysfs-bus-pci#L344-L355\n",
      "2024-04-26 07:08:51.281743: I tensorflow/core/common_runtime/gpu/gpu_device.cc:1635] Created device /job:localhost/replica:0/task:0/device:GPU:0 with 4096 MB memory:  -> device: 0, name: NVIDIA GeForce RTX 4090, pci bus id: 0000:21:00.0, compute capability: 8.9\n"
     ]
    }
   ],
   "source": [
    "from EMAN3 import *\n",
    "from EMAN3tensor import *\n",
    "import numpy as np\n",
    "tf_set_device(dev=0,maxmem=4096)"
   ]
  },
  {
   "cell_type": "code",
   "execution_count": 2,
   "id": "a19a9d69-58a9-496a-8e23-0ad6b3d57773",
   "metadata": {},
   "outputs": [],
   "source": [
    "orts=Orientations(np.array([[0,0,0],[0,0,.25],[0,0,.5],[0,0,.75],[0.125,0,0],[0.25,0,0],[0.375,0,0],[0.5,0,0]]))"
   ]
  },
  {
   "cell_type": "code",
   "execution_count": 3,
   "id": "f4f195c9-961c-4fa5-9ddb-54746df4c333",
   "metadata": {},
   "outputs": [
    {
     "data": {
      "text/plain": [
       "<tf.Tensor: shape=(2, 3, 8), dtype=float32, numpy=\n",
       "array([[[ 1.0000000e+00, -1.1920929e-07, -1.0000000e+00, -1.1920929e-07,\n",
       "          1.0000000e+00,  1.0000000e+00,  1.0000000e+00,  1.0000000e+00],\n",
       "        [ 0.0000000e+00, -1.0000000e+00,  8.7422777e-08,  1.0000000e+00,\n",
       "          0.0000000e+00,  0.0000000e+00,  0.0000000e+00,  0.0000000e+00],\n",
       "        [ 0.0000000e+00,  0.0000000e+00,  0.0000000e+00,  0.0000000e+00,\n",
       "          0.0000000e+00,  0.0000000e+00,  0.0000000e+00,  0.0000000e+00]],\n",
       "\n",
       "       [[ 0.0000000e+00,  1.0000000e+00, -8.7422777e-08, -1.0000000e+00,\n",
       "          0.0000000e+00,  0.0000000e+00,  0.0000000e+00,  0.0000000e+00],\n",
       "        [ 1.0000000e+00, -1.1920929e-07, -1.0000000e+00, -1.1920929e-07,\n",
       "          7.0710671e-01, -1.1920929e-07, -7.0710695e-01, -1.0000000e+00],\n",
       "        [ 0.0000000e+00,  0.0000000e+00,  0.0000000e+00,  0.0000000e+00,\n",
       "         -7.0710683e-01, -1.0000000e+00, -7.0710683e-01,  8.7422777e-08]]],\n",
       "      dtype=float32)>"
      ]
     },
     "execution_count": 3,
     "metadata": {},
     "output_type": "execute_result"
    }
   ],
   "source": [
    "orts.to_mx2d()"
   ]
  },
  {
   "cell_type": "code",
   "execution_count": 3,
   "id": "be8efd99-25f9-46ed-ad67-ea13336d5550",
   "metadata": {},
   "outputs": [],
   "source": [
    "gaus=Gaussians(np.array([[0.0,0.0,0.0,1.0],[.3,0,0,1],[0,.3,0,.5],[0,0,.3,.25],[0,0,-.1,.25]]))"
   ]
  },
  {
   "cell_type": "code",
   "execution_count": 5,
   "id": "e3173afb-2ecb-4e4a-8aaf-20b54133991d",
   "metadata": {},
   "outputs": [
    {
     "name": "stderr",
     "output_type": "stream",
     "text": [
      "2024-02-03 20:23:07.132239: I tensorflow/compiler/xla/stream_executor/cuda/cuda_blas.cc:637] TensorFloat-32 will be used for the matrix multiplication. This will only be logged once.\n"
     ]
    }
   ],
   "source": [
    "imgs=gaus.project_simple(orts,64)"
   ]
  },
  {
   "cell_type": "code",
   "execution_count": 6,
   "id": "e3d27c0e-83d1-472e-98af-791e0432722e",
   "metadata": {},
   "outputs": [],
   "source": [
    "emimgs=from_tf(imgs,True)"
   ]
  },
  {
   "cell_type": "code",
   "execution_count": 7,
   "id": "e1db6c71-9611-47f7-88c7-98da2cd27fca",
   "metadata": {},
   "outputs": [],
   "source": [
    "imgsf=tf_fft2d(imgs)"
   ]
  },
  {
   "cell_type": "code",
   "execution_count": 10,
   "id": "e4b26bc5-45a0-4620-af4f-b6ef03f7a7af",
   "metadata": {},
   "outputs": [
    {
     "name": "stdout",
     "output_type": "stream",
     "text": [
      "(46,) (64, 33, 1) (2, 64, 33)\n",
      "(46,) (64, 33, 1) (2, 64, 33)\n"
     ]
    },
    {
     "data": {
      "text/plain": [
       "<tf.Tensor: shape=(2,), dtype=float32, numpy=array([0.7433562, 0.7350201], dtype=float32)>"
      ]
     },
     "execution_count": 10,
     "metadata": {},
     "output_type": "execute_result"
    }
   ],
   "source": [
    "tf_frc(imgsf[:2],imgsf[2:4],True)"
   ]
  },
  {
   "cell_type": "code",
   "execution_count": null,
   "id": "72c5f5fc-e739-46cf-b766-7fb42b90faa8",
   "metadata": {},
   "outputs": [],
   "source": [
    "ptcls=EMData.read_images(\"/home2/stevel/test3d/ptcls_08_even.hdf\")\n",
    "xfs=[ptcl[\"xform_projection\"] for ptcl in ptcls]"
   ]
  },
  {
   "cell_type": "code",
   "execution_count": 3,
   "id": "ef37fccb-7b25-4e59-8dde-e8d2db4597c9",
   "metadata": {},
   "outputs": [
    {
     "data": {
      "text/plain": [
       "numpy.ndarray"
      ]
     },
     "execution_count": 3,
     "metadata": {},
     "output_type": "execute_result"
    }
   ],
   "source": [
    "type(np.zeros(5,dtype=\"float32\"))"
   ]
  },
  {
   "cell_type": "code",
   "execution_count": 2,
   "id": "34305630-28db-483d-b676-b5e415d14034",
   "metadata": {},
   "outputs": [],
   "source": [
    "N=8\n",
    "x=EMStack2D([test_image(size=(1024,1024)) for i in range(N)])\n",
    "for i in range(N): x.emdata[i].translate(i*3,i*2,0)"
   ]
  },
  {
   "cell_type": "code",
   "execution_count": 4,
   "id": "3eb1c8ed-6a59-4744-9d93-9ad09cc0fe55",
   "metadata": {},
   "outputs": [
    {
     "data": {
      "text/plain": [
       "True"
      ]
     },
     "execution_count": 4,
     "metadata": {},
     "output_type": "execute_result"
    }
   ],
   "source": [
    "xf=x.do_fft()\n",
    "cf=xf.calc_ccf(xf[0],center=True)\n",
    "#cfp=tf_phaseorigin2d(cf.tensor)\n",
    "cfr=cf.do_ift()\n",
    "EMData.write_images(\"ccf.hdf\",cfr.emdata)"
   ]
  },
  {
   "cell_type": "code",
   "execution_count": 4,
   "id": "b95b2db6-118e-4b4f-b038-b07fb6c7ed30",
   "metadata": {},
   "outputs": [
    {
     "data": {
      "text/plain": [
       "tf.complex64"
      ]
     },
     "execution_count": 4,
     "metadata": {},
     "output_type": "execute_result"
    }
   ],
   "source": [
    "tf.complex64"
   ]
  },
  {
   "cell_type": "code",
   "execution_count": 5,
   "id": "92978f12-ec5d-497a-9070-c9ea6f1f0a9e",
   "metadata": {},
   "outputs": [
    {
     "data": {
      "text/plain": [
       "<tf.Tensor: shape=(1024, 1024), dtype=float32, numpy=\n",
       "array([[0., 0., 0., ..., 0., 0., 0.],\n",
       "       [0., 0., 0., ..., 0., 0., 0.],\n",
       "       [0., 0., 0., ..., 0., 0., 0.],\n",
       "       ...,\n",
       "       [0., 0., 0., ..., 0., 0., 0.],\n",
       "       [0., 0., 0., ..., 0., 0., 0.],\n",
       "       [0., 0., 0., ..., 0., 0., 0.]], dtype=float32)>"
      ]
     },
     "execution_count": 5,
     "metadata": {},
     "output_type": "execute_result"
    }
   ],
   "source": [
    "x[0].div"
   ]
  },
  {
   "cell_type": "code",
   "execution_count": null,
   "id": "601b2044-b9c8-4f94-8e10-21a19996d8d1",
   "metadata": {},
   "outputs": [],
   "source": []
  },
  {
   "cell_type": "code",
   "execution_count": 6,
   "id": "a339613b-c074-4106-ba21-c3581fa071f9",
   "metadata": {},
   "outputs": [
    {
     "name": "stdout",
     "output_type": "stream",
     "text": [
      "(168, 3) (168,)\n",
      "(4, 168) [ 0.         0.         0.         0.         0.         0.\n",
      "  0.         0.         0.         0.         0.         0.\n",
      "  0.         0.         0.         0.         0.         0.\n",
      "  0.         0.         0.         0.         0.         0.\n",
      "  0.         0.         0.         0.         0.         0.\n",
      "  0.         0.         0.         0.         0.         0.\n",
      "  0.         0.         0.         0.         0.         0.\n",
      "  0.         0.         0.         0.         0.         0.4375\n",
      " -0.4375    -0.375      0.375     -0.34375    0.3359375 -0.3125\n",
      " -0.4921875  0.4921875  0.296875  -0.28125    0.2578125 -0.25\n",
      " -0.2109375  0.2109375 -0.1796875  0.171875  -0.1484375  0.1328125\n",
      " -0.1171875  0.09375   -0.0859375 -0.0546875  0.0546875  0.\n",
      "  0.         0.         0.         0.         0.        -0.40625\n",
      "  0.40625    0.         0.         0.         0.         0.\n",
      "  0.        -0.4609375  0.46875    0.         0.         0.03125\n",
      "  0.         0.         0.234375  -0.0390625  0.         0.\n",
      "  0.         0.         0.         0.         0.         0.\n",
      "  0.         0.         0.         0.         0.3515625  0.2734375\n",
      "  0.3125     0.1875    -0.2265625  0.1484375  0.109375   0.0703125\n",
      "  0.         0.         0.         0.         0.         0.\n",
      "  0.         0.         0.         0.         0.         0.\n",
      "  0.         0.         0.         0.        -0.359375  -0.328125\n",
      " -0.265625  -0.1953125 -0.1640625 -0.1328125 -0.1015625 -0.0234375\n",
      "  0.         0.         0.         0.         0.453125  -0.4765625\n",
      "  0.         0.         0.         0.         0.         0.\n",
      "  0.390625  -0.421875   0.         0.         0.         0.\n",
      "  0.         0.        -0.390625  -0.296875   0.         0.\n",
      " -0.0703125  0.0078125  0.         0.         0.         0.421875 ]\n"
     ]
    }
   ],
   "source": [
    "# Developing init_from_map method\n",
    "emd=test_image_3d()\n",
    "seg=emd.process(\"segment.gauss\",{\"minratio\":0.1,\"width\":4,\"skipseg\":1})\n",
    "amps=np.array(seg[\"segment_amps\"])\n",
    "centers=np.array(seg[\"segment_centers\"]).reshape(len(amps),3)\n",
    "centers/=(emd[\"nx\"],emd[\"ny\"],emd[\"nz\"])\n",
    "centers-=(0.5,0.5,0.5)\n",
    "amps/=max(amps)\n",
    "print(centers.shape,amps.shape)\n",
    "cc=np.concatenate((centers.transpose(),amps.reshape((1,len(amps)))))\n",
    "print(cc.shape,cc[0])\n",
    "#"
   ]
  },
  {
   "cell_type": "code",
   "execution_count": 3,
   "id": "60fe99dc-062c-4c40-b0ef-493182ff7586",
   "metadata": {},
   "outputs": [
    {
     "name": "stdout",
     "output_type": "stream",
     "text": [
      "863  gaussians init\n"
     ]
    },
    {
     "name": "stderr",
     "output_type": "stream",
     "text": [
      "2024-04-26 07:46:30.340233: I tensorflow/compiler/xla/stream_executor/cuda/cuda_blas.cc:637] TensorFloat-32 will be used for the matrix multiplication. This will only be logged once.\n"
     ]
    }
   ],
   "source": [
    "# Testing orientation conversion and making sure projection directions match\n",
    "\n",
    "map1=EMData(\"A.hdf\")\n",
    "gaus=Gaussians()\n",
    "gaus.init_from_map(map1,4,.5)\n",
    "print(len(gaus),\" gaussians init\")\n",
    "\n",
    "ptcls=EMStack2D(\"A_proj.hdf\")\n",
    "orts,txty=ptcls.orientations\n",
    "\n",
    "projs=gaus.project_simple(orts,map1[\"nx\"],txty=txty)\n",
    "#projs.write_images(\"A_reproj.hdf\")\n",
    "projsf=projs.do_fft()\n",
    "ptclsf=ptcls.do_fft()\n"
   ]
  },
  {
   "cell_type": "code",
   "execution_count": 18,
   "id": "a61b7705-78de-4b55-92cd-07d51b457e91",
   "metadata": {},
   "outputs": [],
   "source": [
    "frcs=tf.stack(tf_frc(projsf.tensor,ptclsf.tensor,0))\n",
    "tf.math.reduce_mean(frcs[:,:10],1)"
   ]
  },
  {
   "cell_type": "code",
   "execution_count": 16,
   "id": "4b274d85-57c0-45d2-9196-01b8a92c6cc1",
   "metadata": {},
   "outputs": [],
   "source": [
    "#Initialize Gaussians to random values\n",
    "rnd=tf.random.uniform((100,4))\n",
    "rnd+=(-.5,-.5,-.5,100.0)\n",
    "gaus._data=rnd/(1.5,1.5,1.5,100.0)\n",
    "\n"
   ]
  },
  {
   "cell_type": "code",
   "execution_count": 31,
   "id": "85a280f9-7651-475b-8252-618f551aa0f3",
   "metadata": {},
   "outputs": [
    {
     "data": {
      "text/plain": [
       "(<tf.Tensor: shape=(10, 4), dtype=float32, numpy=\n",
       " array([[-0.06804289, -0.01572398,  0.13215725,  0.9901045 ],\n",
       "        [ 0.07442839, -0.08245361, -0.1251184 ,  1.0649745 ],\n",
       "        [ 0.06811549, -0.05047636, -0.10591442,  0.9965065 ],\n",
       "        [-0.05886522, -0.06504864,  0.02711095,  0.94404334],\n",
       "        [-0.09623458,  0.11744577,  0.03807257,  0.93351775],\n",
       "        [ 0.1380825 , -0.05167935, -0.08641298,  1.0887544 ],\n",
       "        [-0.09520481,  0.0150267 , -0.06673578,  1.0326577 ],\n",
       "        [-0.01770332, -0.0244867 , -0.10012727,  0.9975222 ],\n",
       "        [-0.03816146, -0.05606935, -0.13237397,  1.0952895 ],\n",
       "        [-0.07896011, -0.06265385, -0.0904939 ,  1.036947  ]],\n",
       "       dtype=float32)>,\n",
       " <tf.Tensor: shape=(10, 4), dtype=float32, numpy=\n",
       " array([[-0.08951983, -0.11614624, -0.08334197,  0.95720875],\n",
       "        [ 0.0622078 ,  0.00565374,  0.06604336,  1.0348835 ],\n",
       "        [ 0.02437813, -0.02123026,  0.0367891 ,  1.0026112 ],\n",
       "        [ 0.00796423,  0.02169406, -0.10173687,  1.0567319 ],\n",
       "        [ 0.09752198, -0.0846845 ,  0.02744012,  0.92731076],\n",
       "        [ 0.08163057,  0.08821887, -0.12415574,  1.0704291 ],\n",
       "        [-0.07220821, -0.08497812, -0.04770315,  1.0262578 ],\n",
       "        [-0.01534271,  0.08647553,  0.02962296,  0.8739582 ],\n",
       "        [ 0.10062681,  0.07836096,  0.10880458,  1.0532318 ],\n",
       "        [ 0.10034033,  0.01605387,  0.05381241,  1.0620197 ]],\n",
       "       dtype=float32)>)"
      ]
     },
     "execution_count": 31,
     "metadata": {},
     "output_type": "execute_result"
    }
   ],
   "source": [
    "gaus[:10],gaus[-10:]"
   ]
  },
  {
   "cell_type": "code",
   "execution_count": 17,
   "id": "3745df64-536f-4cf1-899b-03be4dcbfdb5",
   "metadata": {},
   "outputs": [],
   "source": [
    "ptclsfds=ptcls.downsample(16)    # downsample specifies the final size, not the amount of downsampling\n",
    "ny=ptclsfds.shape[1]"
   ]
  },
  {
   "cell_type": "code",
   "execution_count": 21,
   "id": "22717286-bbca-48d8-9ab8-a4b465eb65d7",
   "metadata": {},
   "outputs": [
    {
     "data": {
      "text/plain": [
       "<tf.Tensor: shape=(), dtype=float32, numpy=0.88015544>"
      ]
     },
     "execution_count": 21,
     "metadata": {},
     "output_type": "execute_result"
    }
   ],
   "source": [
    "min(gaus[:,3])"
   ]
  },
  {
   "cell_type": "code",
   "execution_count": 18,
   "id": "2bdede34-d868-4ccf-afca-248df9bca621",
   "metadata": {},
   "outputs": [
    {
     "name": "stdout",
     "output_type": "stream",
     "text": [
      "0.12904363870620728\t9.611860275268555\t0.623428225517273\n",
      "0.1424226015806198\t10.014603614807129\t0.6398802995681763\n",
      "0.1563907116651535\t10.30959415435791\t0.6606905460357666\n",
      "0.1683225780725479\t10.454142570495605\t0.6857126951217651\n",
      "0.18208809196949005\t10.505624771118164\t0.7146774530410767\n",
      "0.19497784972190857\t10.368515014648438\t0.7462018132209778\n",
      "0.20767857134342194\t10.055195808410645\t0.7779233455657959\n",
      "0.22126096487045288\t9.82271957397461\t0.8067746758460999\n",
      "0.23347584903240204\t9.555696487426758\t0.8321861028671265\n",
      "0.24662429094314575\t9.272048950195312\t0.8531026244163513\n",
      "0.2589714527130127\t9.097624778747559\t0.8712010383605957\n",
      "0.26869893074035645\t8.920060157775879\t0.8865460753440857\n",
      "0.2791903018951416\t8.641247749328613\t0.8995672464370728\n",
      "0.2897868752479553\t8.350774765014648\t0.9097416996955872\n",
      "0.3006414473056793\t8.145763397216797\t0.9186270833015442\n",
      "0.3102629780769348\t8.027179718017578\t0.9262605905532837\n",
      "0.3210418224334717\t7.808499336242676\t0.9331403970718384\n",
      "0.3326265811920166\t7.461989879608154\t0.939436137676239\n",
      "0.3424181044101715\t7.039731979370117\t0.9446595311164856\n",
      "0.3488438129425049\t6.531031608581543\t0.9482265114784241\n",
      "0.3575170338153839\t6.085620880126953\t0.9503921866416931\n",
      "0.36675816774368286\t5.796706199645996\t0.9521827101707458\n",
      "0.374012291431427\t5.6913981437683105\t0.9535091519355774\n",
      "0.38234058022499084\t5.62217903137207\t0.954747200012207\n",
      "0.38928553462028503\t5.398067474365234\t0.9565378427505493\n",
      "0.39640194177627563\t5.206727504730225\t0.9585199356079102\n",
      "0.4026249647140503\t4.983749866485596\t0.9603521227836609\n",
      "0.4066603183746338\t4.721673488616943\t0.9641643166542053\n",
      "0.41436871886253357\t4.602980136871338\t0.9680073261260986\n",
      "0.42066553235054016\t4.586732864379883\t0.9718020558357239\n",
      "0.4267493188381195\t4.495379447937012\t0.9753099083900452\n",
      "0.4346238076686859\t4.332616806030273\t0.9787328839302063\n",
      "0.4391217827796936\t4.296311378479004\t0.983795702457428\n",
      "0.44471514225006104\t4.122254848480225\t0.9902806282043457\n",
      "0.45061296224594116\t3.8074440956115723\t0.9981324672698975\n",
      "0.4557436406612396\t3.400575876235962\t1.005292296409607\n",
      "0.4615395665168762\t3.085224151611328\t1.0105364322662354\n",
      "0.467416375875473\t2.9648244380950928\t1.0142526626586914\n",
      "0.47075778245925903\t3.2408981323242188\t1.0148686170578003\n",
      "0.47621026635169983\t3.338838815689087\t1.0154390335083008\n",
      "0.48020192980766296\t3.4346060752868652\t1.0179063081741333\n",
      "0.4863579571247101\t3.223386526107788\t1.022147536277771\n",
      "0.4884801208972931\t3.065049886703491\t1.025682806968689\n",
      "0.49216657876968384\t2.830822229385376\t1.0290069580078125\n",
      "0.49649813771247864\t2.5700252056121826\t1.0291593074798584\n",
      "0.5017803311347961\t2.5662577152252197\t1.028893232345581\n",
      "0.5050409436225891\t2.5250244140625\t1.0296896696090698\n",
      "0.5101078748703003\t2.3108408451080322\t1.0296380519866943\n",
      "0.5131142139434814\t1.9934604167938232\t1.0283859968185425\n",
      "0.515155553817749\t1.7250245809555054\t1.0283102989196777\n",
      "0.51688152551651\t1.667447566986084\t1.02809476852417\n",
      "0.5191786885261536\t1.683495283126831\t1.027984619140625\n",
      "0.5206999182701111\t1.5926200151443481\t1.0258798599243164\n",
      "0.5221453309059143\t1.5103856325149536\t1.0234249830245972\n",
      "0.524436891078949\t1.4510518312454224\t1.0199869871139526\n",
      "0.5262453556060791\t1.621468424797058\t1.0199097394943237\n",
      "0.5284251570701599\t1.6911550760269165\t1.0150235891342163\n",
      "0.5320029258728027\t1.663015604019165\t1.017675757408142\n",
      "0.5341706275939941\t1.4848055839538574\t1.0133222341537476\n",
      "0.5357593297958374\t1.4642962217330933\t1.016537070274353\n",
      "0.5376713871955872\t1.5363624095916748\t1.0071240663528442\n",
      "0.5407554507255554\t1.6254538297653198\t1.0127116441726685\n",
      "0.5415658354759216\t1.672135591506958\t1.001571774482727\n",
      "0.5437491536140442\t1.5453460216522217\t1.006284475326538\n"
     ]
    }
   ],
   "source": [
    "# \"learn\" Gaussian locations test on downsampled particles\n",
    "for i in range(64):\n",
    "    with tf.GradientTape() as gt:\n",
    "        gt.watch(gaus.tensor)\n",
    "        projs=gaus.project_simple(orts,ny,txty=txty)\n",
    "        projsf=projs.do_fft()\n",
    "        frcs=tf_frc(projsf.tensor,ptclsfds.tensor,-1)\n",
    "    grad=gt.gradient(frcs,gaus._data)\n",
    "    qual=tf.math.reduce_mean(frcs)\n",
    "    shift=tf.math.reduce_std(grad[:,:3])\n",
    "    sca=tf.math.reduce_std(grad[:,3])\n",
    "    xyzs=1.0/(shift*1000)   # xyz scale\n",
    "    gaus.add_tensor(grad*(xyzs,xyzs,xyzs,1.0/(sca*500)))\n",
    "    print(f\"{float(qual)}\\t{float(shift)}\\t{float(sca)}\")\n"
   ]
  },
  {
   "cell_type": "code",
   "execution_count": 61,
   "id": "23870a9f-dbb4-471b-8321-797c11f54344",
   "metadata": {},
   "outputs": [
    {
     "name": "stdout",
     "output_type": "stream",
     "text": [
      "0.5992359519004822\t3.607722520828247\n",
      "0.6222471594810486\t2.9173660278320312\n",
      "0.6405577659606934\t2.299583673477173\n",
      "0.6548011302947998\t1.8245238065719604\n",
      "0.6660016179084778\t1.4766881465911865\n",
      "0.675089418888092\t1.2581884860992432\n",
      "0.682397723197937\t1.0515044927597046\n",
      "0.6877304315567017\t0.993125855922699\n",
      "0.6915033459663391\t1.104539155960083\n",
      "0.6943872570991516\t1.1641767024993896\n",
      "0.6964638829231262\t1.1463381052017212\n",
      "0.6974629759788513\t1.2180379629135132\n",
      "0.6984103322029114\t1.2186729907989502\n",
      "0.6990590691566467\t1.237385869026184\n",
      "0.6998651623725891\t1.2380579710006714\n",
      "0.7003649473190308\t1.2703198194503784\n"
     ]
    }
   ],
   "source": [
    "# \"learn\" Gaussian locations test\n",
    "nx=map1[\"nx\"]\n",
    "for i in range(16):\n",
    "    with tf.GradientTape() as gt:\n",
    "        gt.watch(gaus.tensor)\n",
    "        projs=gaus.project_simple(orts,nx,txty=txty)\n",
    "        projsf=projs.do_fft()\n",
    "        frcs=tf_frc(projsf.tensor,ptclsf.tensor,28)\n",
    "    grad=gt.gradient(frcs,gaus._data)\n",
    "    qual=tf.math.reduce_mean(frcs)\n",
    "    shift=tf.math.reduce_std(grad[:,:3])\n",
    "    xyzs=1.0/(shift*1000)   # xyz scale\n",
    "    gaus.add_tensor(grad*(xyzs,xyzs,xyzs,0.0))\n",
    "    print(f\"{float(qual)}\\t{float(shift)}\")\n"
   ]
  },
  {
   "cell_type": "code",
   "execution_count": 7,
   "id": "782b9326-7bfe-4fc0-ac2e-2795dbdfe4b3",
   "metadata": {},
   "outputs": [],
   "source": [
    "projs.write_images(\"A_reproj_opt.hdf\")"
   ]
  },
  {
   "cell_type": "code",
   "execution_count": 22,
   "id": "9d685791-2232-4067-9fa6-5cb12cbcef2d",
   "metadata": {},
   "outputs": [
    {
     "data": {
      "text/plain": [
       "{'all_int': 0,\n",
       " 'apix_x': 1.0,\n",
       " 'apix_y': 1.0,\n",
       " 'apix_z': 1.0,\n",
       " 'changecount': 10,\n",
       " 'datatype': 7,\n",
       " 'is_complex': 0,\n",
       " 'is_complex_ri': 0,\n",
       " 'is_fftodd': 0,\n",
       " 'is_fftpad': 0,\n",
       " 'maximum': 0.04675459861755371,\n",
       " 'mean': 2.4375625798711553e-05,\n",
       " 'mean_nonzero': 2.4376739020226523e-05,\n",
       " 'minimum': -6.415749339794274e-06,\n",
       " 'npad': 1,\n",
       " 'nx': 160,\n",
       " 'ny': 160,\n",
       " 'nz': 160,\n",
       " 'sigma': 0.0005703617935068905,\n",
       " 'sigma_nonzero': 0.0005703747738152742,\n",
       " 'square_sum': 1.334913730621338}"
      ]
     },
     "execution_count": 22,
     "metadata": {},
     "output_type": "execute_result"
    }
   ],
   "source": [
    "vol=gaus.volume(map1[\"nx\"])\n",
    "vol.emdata[0].process_inplace(\"filter.lowpass.gauss\",{\"cutoff_abs\":0.2})\n",
    "vol.write_images(\"A_vol_opt.hdf\")\n",
    "vol.emdata[0].get_attr_dict()"
   ]
  },
  {
   "cell_type": "code",
   "execution_count": 19,
   "id": "5bb45027-415a-4fd2-a346-29e5968cedc6",
   "metadata": {},
   "outputs": [
    {
     "data": {
      "text/plain": [
       "(0.0, 0.0)"
      ]
     },
     "execution_count": 19,
     "metadata": {},
     "output_type": "execute_result"
    }
   ],
   "source": [
    "t=Transform()\n",
    "tuple(t.get_trans_2d())"
   ]
  },
  {
   "cell_type": "code",
   "execution_count": 18,
   "id": "3b2ec946-4718-4c05-b91a-df9ae6460567",
   "metadata": {},
   "outputs": [
    {
     "data": {
      "text/plain": [
       "(3, 2)"
      ]
     },
     "execution_count": 18,
     "metadata": {},
     "output_type": "execute_result"
    }
   ],
   "source": [
    "np.array(((1,1),(0,0),(1,0))).shape"
   ]
  },
  {
   "cell_type": "code",
   "execution_count": null,
   "id": "1914e260-72ee-4e20-948d-262d0335b58b",
   "metadata": {},
   "outputs": [],
   "source": []
  }
 ],
 "metadata": {
  "kernelspec": {
   "display_name": "Python 3 (ipykernel)",
   "language": "python",
   "name": "python3"
  },
  "language_info": {
   "codemirror_mode": {
    "name": "ipython",
    "version": 3
   },
   "file_extension": ".py",
   "mimetype": "text/x-python",
   "name": "python",
   "nbconvert_exporter": "python",
   "pygments_lexer": "ipython3",
   "version": "3.11.6"
  }
 },
 "nbformat": 4,
 "nbformat_minor": 5
}
