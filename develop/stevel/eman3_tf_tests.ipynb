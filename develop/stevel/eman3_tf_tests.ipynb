{
 "cells": [
  {
   "cell_type": "code",
   "execution_count": 1,
   "id": "ffd6af5e-f43b-4199-b7ea-871809352fdd",
   "metadata": {},
   "outputs": [
    {
     "name": "stderr",
     "output_type": "stream",
     "text": [
      "2024-04-24 22:37:07.189668: I tensorflow/core/platform/cpu_feature_guard.cc:182] This TensorFlow binary is optimized to use available CPU instructions in performance-critical operations.\n",
      "To enable the following instructions: SSE4.1 SSE4.2 AVX AVX2 FMA, in other operations, rebuild TensorFlow with the appropriate compiler flags.\n",
      "2024-04-24 22:37:09.698021: I tensorflow/compiler/xla/stream_executor/cuda/cuda_gpu_executor.cc:996] successful NUMA node read from SysFS had negative value (-1), but there must be at least one NUMA node, so returning NUMA node zero. See more at https://github.com/torvalds/linux/blob/v6.0/Documentation/ABI/testing/sysfs-bus-pci#L344-L355\n",
      "2024-04-24 22:37:09.801514: I tensorflow/compiler/xla/stream_executor/cuda/cuda_gpu_executor.cc:996] successful NUMA node read from SysFS had negative value (-1), but there must be at least one NUMA node, so returning NUMA node zero. See more at https://github.com/torvalds/linux/blob/v6.0/Documentation/ABI/testing/sysfs-bus-pci#L344-L355\n",
      "2024-04-24 22:37:09.801775: I tensorflow/compiler/xla/stream_executor/cuda/cuda_gpu_executor.cc:996] successful NUMA node read from SysFS had negative value (-1), but there must be at least one NUMA node, so returning NUMA node zero. See more at https://github.com/torvalds/linux/blob/v6.0/Documentation/ABI/testing/sysfs-bus-pci#L344-L355\n",
      "2024-04-24 22:37:09.804639: I tensorflow/compiler/xla/stream_executor/cuda/cuda_gpu_executor.cc:996] successful NUMA node read from SysFS had negative value (-1), but there must be at least one NUMA node, so returning NUMA node zero. See more at https://github.com/torvalds/linux/blob/v6.0/Documentation/ABI/testing/sysfs-bus-pci#L344-L355\n",
      "2024-04-24 22:37:09.804844: I tensorflow/compiler/xla/stream_executor/cuda/cuda_gpu_executor.cc:996] successful NUMA node read from SysFS had negative value (-1), but there must be at least one NUMA node, so returning NUMA node zero. See more at https://github.com/torvalds/linux/blob/v6.0/Documentation/ABI/testing/sysfs-bus-pci#L344-L355\n",
      "2024-04-24 22:37:09.805020: I tensorflow/compiler/xla/stream_executor/cuda/cuda_gpu_executor.cc:996] successful NUMA node read from SysFS had negative value (-1), but there must be at least one NUMA node, so returning NUMA node zero. See more at https://github.com/torvalds/linux/blob/v6.0/Documentation/ABI/testing/sysfs-bus-pci#L344-L355\n",
      "2024-04-24 22:37:09.892962: I tensorflow/compiler/xla/stream_executor/cuda/cuda_gpu_executor.cc:996] successful NUMA node read from SysFS had negative value (-1), but there must be at least one NUMA node, so returning NUMA node zero. See more at https://github.com/torvalds/linux/blob/v6.0/Documentation/ABI/testing/sysfs-bus-pci#L344-L355\n",
      "2024-04-24 22:37:09.893170: I tensorflow/compiler/xla/stream_executor/cuda/cuda_gpu_executor.cc:996] successful NUMA node read from SysFS had negative value (-1), but there must be at least one NUMA node, so returning NUMA node zero. See more at https://github.com/torvalds/linux/blob/v6.0/Documentation/ABI/testing/sysfs-bus-pci#L344-L355\n",
      "2024-04-24 22:37:09.893313: I tensorflow/compiler/xla/stream_executor/cuda/cuda_gpu_executor.cc:996] successful NUMA node read from SysFS had negative value (-1), but there must be at least one NUMA node, so returning NUMA node zero. See more at https://github.com/torvalds/linux/blob/v6.0/Documentation/ABI/testing/sysfs-bus-pci#L344-L355\n",
      "2024-04-24 22:37:09.893632: I tensorflow/core/common_runtime/gpu/gpu_device.cc:1635] Created device /job:localhost/replica:0/task:0/device:GPU:0 with 4096 MB memory:  -> device: 0, name: NVIDIA GeForce RTX 3070 Ti, pci bus id: 0000:01:00.0, compute capability: 8.6\n"
     ]
    },
    {
     "data": {
      "text/plain": [
       "<tensorflow.python.eager.context._EagerDeviceContext at 0x7696350a9640>"
      ]
     },
     "execution_count": 1,
     "metadata": {},
     "output_type": "execute_result"
    }
   ],
   "source": [
    "from EMAN3 import *\n",
    "from EMAN3tensor import *\n",
    "import numpy as np\n",
    "tf_set_device(dev=0,maxmem=4096)"
   ]
  },
  {
   "cell_type": "code",
   "execution_count": 2,
   "id": "a19a9d69-58a9-496a-8e23-0ad6b3d57773",
   "metadata": {},
   "outputs": [],
   "source": [
    "orts=Orientations(np.array([[0,0,0],[0,0,.25],[0,0,.5],[0,0,.75],[0.125,0,0],[0.25,0,0],[0.375,0,0],[0.5,0,0]]))"
   ]
  },
  {
   "cell_type": "code",
   "execution_count": 3,
   "id": "f4f195c9-961c-4fa5-9ddb-54746df4c333",
   "metadata": {},
   "outputs": [
    {
     "data": {
      "text/plain": [
       "<tf.Tensor: shape=(2, 3, 8), dtype=float32, numpy=\n",
       "array([[[ 1.0000000e+00, -1.1920929e-07, -1.0000000e+00, -1.1920929e-07,\n",
       "          1.0000000e+00,  1.0000000e+00,  1.0000000e+00,  1.0000000e+00],\n",
       "        [ 0.0000000e+00, -1.0000000e+00,  8.7422777e-08,  1.0000000e+00,\n",
       "          0.0000000e+00,  0.0000000e+00,  0.0000000e+00,  0.0000000e+00],\n",
       "        [ 0.0000000e+00,  0.0000000e+00,  0.0000000e+00,  0.0000000e+00,\n",
       "          0.0000000e+00,  0.0000000e+00,  0.0000000e+00,  0.0000000e+00]],\n",
       "\n",
       "       [[ 0.0000000e+00,  1.0000000e+00, -8.7422777e-08, -1.0000000e+00,\n",
       "          0.0000000e+00,  0.0000000e+00,  0.0000000e+00,  0.0000000e+00],\n",
       "        [ 1.0000000e+00, -1.1920929e-07, -1.0000000e+00, -1.1920929e-07,\n",
       "          7.0710671e-01, -1.1920929e-07, -7.0710695e-01, -1.0000000e+00],\n",
       "        [ 0.0000000e+00,  0.0000000e+00,  0.0000000e+00,  0.0000000e+00,\n",
       "         -7.0710683e-01, -1.0000000e+00, -7.0710683e-01,  8.7422777e-08]]],\n",
       "      dtype=float32)>"
      ]
     },
     "execution_count": 3,
     "metadata": {},
     "output_type": "execute_result"
    }
   ],
   "source": [
    "orts.to_mx2d()"
   ]
  },
  {
   "cell_type": "code",
   "execution_count": 3,
   "id": "be8efd99-25f9-46ed-ad67-ea13336d5550",
   "metadata": {},
   "outputs": [],
   "source": [
    "gaus=Gaussians(np.array([[0.0,0.0,0.0,1.0],[.3,0,0,1],[0,.3,0,.5],[0,0,.3,.25],[0,0,-.1,.25]]))"
   ]
  },
  {
   "cell_type": "code",
   "execution_count": 5,
   "id": "e3173afb-2ecb-4e4a-8aaf-20b54133991d",
   "metadata": {},
   "outputs": [
    {
     "name": "stderr",
     "output_type": "stream",
     "text": [
      "2024-02-03 20:23:07.132239: I tensorflow/compiler/xla/stream_executor/cuda/cuda_blas.cc:637] TensorFloat-32 will be used for the matrix multiplication. This will only be logged once.\n"
     ]
    }
   ],
   "source": [
    "imgs=gaus.project_simple(orts,64)"
   ]
  },
  {
   "cell_type": "code",
   "execution_count": 6,
   "id": "e3d27c0e-83d1-472e-98af-791e0432722e",
   "metadata": {},
   "outputs": [],
   "source": [
    "emimgs=from_tf(imgs,True)"
   ]
  },
  {
   "cell_type": "code",
   "execution_count": 7,
   "id": "e1db6c71-9611-47f7-88c7-98da2cd27fca",
   "metadata": {},
   "outputs": [],
   "source": [
    "imgsf=tf_fft2d(imgs)"
   ]
  },
  {
   "cell_type": "code",
   "execution_count": 10,
   "id": "e4b26bc5-45a0-4620-af4f-b6ef03f7a7af",
   "metadata": {},
   "outputs": [
    {
     "name": "stdout",
     "output_type": "stream",
     "text": [
      "(46,) (64, 33, 1) (2, 64, 33)\n",
      "(46,) (64, 33, 1) (2, 64, 33)\n"
     ]
    },
    {
     "data": {
      "text/plain": [
       "<tf.Tensor: shape=(2,), dtype=float32, numpy=array([0.7433562, 0.7350201], dtype=float32)>"
      ]
     },
     "execution_count": 10,
     "metadata": {},
     "output_type": "execute_result"
    }
   ],
   "source": [
    "tf_frc(imgsf[:2],imgsf[2:4],True)"
   ]
  },
  {
   "cell_type": "code",
   "execution_count": null,
   "id": "72c5f5fc-e739-46cf-b766-7fb42b90faa8",
   "metadata": {},
   "outputs": [],
   "source": [
    "ptcls=EMData.read_images(\"/home2/stevel/test3d/ptcls_08_even.hdf\")\n",
    "xfs=[ptcl[\"xform_projection\"] for ptcl in ptcls]"
   ]
  },
  {
   "cell_type": "code",
   "execution_count": 3,
   "id": "ef37fccb-7b25-4e59-8dde-e8d2db4597c9",
   "metadata": {},
   "outputs": [
    {
     "data": {
      "text/plain": [
       "numpy.ndarray"
      ]
     },
     "execution_count": 3,
     "metadata": {},
     "output_type": "execute_result"
    }
   ],
   "source": [
    "type(np.zeros(5,dtype=\"float32\"))"
   ]
  },
  {
   "cell_type": "code",
   "execution_count": 2,
   "id": "34305630-28db-483d-b676-b5e415d14034",
   "metadata": {},
   "outputs": [],
   "source": [
    "N=8\n",
    "x=EMStack2D([test_image(size=(1024,1024)) for i in range(N)])\n",
    "for i in range(N): x.emdata[i].translate(i*3,i*2,0)"
   ]
  },
  {
   "cell_type": "code",
   "execution_count": 4,
   "id": "3eb1c8ed-6a59-4744-9d93-9ad09cc0fe55",
   "metadata": {},
   "outputs": [
    {
     "data": {
      "text/plain": [
       "True"
      ]
     },
     "execution_count": 4,
     "metadata": {},
     "output_type": "execute_result"
    }
   ],
   "source": [
    "xf=x.do_fft()\n",
    "cf=xf.calc_ccf(xf[0],center=True)\n",
    "#cfp=tf_phaseorigin2d(cf.tensor)\n",
    "cfr=cf.do_ift()\n",
    "EMData.write_images(\"ccf.hdf\",cfr.emdata)"
   ]
  },
  {
   "cell_type": "code",
   "execution_count": 4,
   "id": "b95b2db6-118e-4b4f-b038-b07fb6c7ed30",
   "metadata": {},
   "outputs": [
    {
     "data": {
      "text/plain": [
       "tf.complex64"
      ]
     },
     "execution_count": 4,
     "metadata": {},
     "output_type": "execute_result"
    }
   ],
   "source": [
    "tf.complex64"
   ]
  },
  {
   "cell_type": "code",
   "execution_count": 5,
   "id": "92978f12-ec5d-497a-9070-c9ea6f1f0a9e",
   "metadata": {},
   "outputs": [
    {
     "data": {
      "text/plain": [
       "<tf.Tensor: shape=(1024, 1024), dtype=float32, numpy=\n",
       "array([[0., 0., 0., ..., 0., 0., 0.],\n",
       "       [0., 0., 0., ..., 0., 0., 0.],\n",
       "       [0., 0., 0., ..., 0., 0., 0.],\n",
       "       ...,\n",
       "       [0., 0., 0., ..., 0., 0., 0.],\n",
       "       [0., 0., 0., ..., 0., 0., 0.],\n",
       "       [0., 0., 0., ..., 0., 0., 0.]], dtype=float32)>"
      ]
     },
     "execution_count": 5,
     "metadata": {},
     "output_type": "execute_result"
    }
   ],
   "source": [
    "x[0].div"
   ]
  },
  {
   "cell_type": "code",
   "execution_count": null,
   "id": "601b2044-b9c8-4f94-8e10-21a19996d8d1",
   "metadata": {},
   "outputs": [],
   "source": []
  },
  {
   "cell_type": "code",
   "execution_count": 6,
   "id": "a339613b-c074-4106-ba21-c3581fa071f9",
   "metadata": {},
   "outputs": [
    {
     "name": "stdout",
     "output_type": "stream",
     "text": [
      "(168, 3) (168,)\n",
      "(4, 168) [ 0.         0.         0.         0.         0.         0.\n",
      "  0.         0.         0.         0.         0.         0.\n",
      "  0.         0.         0.         0.         0.         0.\n",
      "  0.         0.         0.         0.         0.         0.\n",
      "  0.         0.         0.         0.         0.         0.\n",
      "  0.         0.         0.         0.         0.         0.\n",
      "  0.         0.         0.         0.         0.         0.\n",
      "  0.         0.         0.         0.         0.         0.4375\n",
      " -0.4375    -0.375      0.375     -0.34375    0.3359375 -0.3125\n",
      " -0.4921875  0.4921875  0.296875  -0.28125    0.2578125 -0.25\n",
      " -0.2109375  0.2109375 -0.1796875  0.171875  -0.1484375  0.1328125\n",
      " -0.1171875  0.09375   -0.0859375 -0.0546875  0.0546875  0.\n",
      "  0.         0.         0.         0.         0.        -0.40625\n",
      "  0.40625    0.         0.         0.         0.         0.\n",
      "  0.        -0.4609375  0.46875    0.         0.         0.03125\n",
      "  0.         0.         0.234375  -0.0390625  0.         0.\n",
      "  0.         0.         0.         0.         0.         0.\n",
      "  0.         0.         0.         0.         0.3515625  0.2734375\n",
      "  0.3125     0.1875    -0.2265625  0.1484375  0.109375   0.0703125\n",
      "  0.         0.         0.         0.         0.         0.\n",
      "  0.         0.         0.         0.         0.         0.\n",
      "  0.         0.         0.         0.        -0.359375  -0.328125\n",
      " -0.265625  -0.1953125 -0.1640625 -0.1328125 -0.1015625 -0.0234375\n",
      "  0.         0.         0.         0.         0.453125  -0.4765625\n",
      "  0.         0.         0.         0.         0.         0.\n",
      "  0.390625  -0.421875   0.         0.         0.         0.\n",
      "  0.         0.        -0.390625  -0.296875   0.         0.\n",
      " -0.0703125  0.0078125  0.         0.         0.         0.421875 ]\n"
     ]
    }
   ],
   "source": [
    "# Developing init_from_map method\n",
    "emd=test_image_3d()\n",
    "seg=emd.process(\"segment.gauss\",{\"minratio\":0.1,\"width\":4,\"skipseg\":1})\n",
    "amps=np.array(seg[\"segment_amps\"])\n",
    "centers=np.array(seg[\"segment_centers\"]).reshape(len(amps),3)\n",
    "centers/=(emd[\"nx\"],emd[\"ny\"],emd[\"nz\"])\n",
    "centers-=(0.5,0.5,0.5)\n",
    "amps/=max(amps)\n",
    "print(centers.shape,amps.shape)\n",
    "cc=np.concatenate((centers.transpose(),amps.reshape((1,len(amps)))))\n",
    "print(cc.shape,cc[0])\n",
    "#"
   ]
  },
  {
   "cell_type": "code",
   "execution_count": 2,
   "id": "60fe99dc-062c-4c40-b0ef-493182ff7586",
   "metadata": {},
   "outputs": [
    {
     "name": "stdout",
     "output_type": "stream",
     "text": [
      "524  gaussians init\n"
     ]
    },
    {
     "name": "stderr",
     "output_type": "stream",
     "text": [
      "2024-04-25 20:11:34.788336: I tensorflow/compiler/xla/stream_executor/cuda/cuda_blas.cc:637] TensorFloat-32 will be used for the matrix multiplication. This will only be logged once.\n"
     ]
    }
   ],
   "source": [
    "# Testing orientation conversion and making sure projection directions match\n",
    "\n",
    "map1=EMData(\"A.hdf\")\n",
    "gaus=Gaussians()\n",
    "gaus.init_from_map(map1,4,.5)\n",
    "print(len(gaus),\" gaussians init\")\n",
    "\n",
    "ptcls=EMStack2D(\"A_proj.hdf\")\n",
    "orts,txty=ptcls.orientations\n",
    "\n",
    "projs=gaus.project_simple(orts,map1[\"nx\"],txty=txty)\n",
    "#projs.write_images(\"A_reproj.hdf\")\n",
    "projsf=projs.do_fft()\n",
    "ptclsf=ptcls.do_fft()\n"
   ]
  },
  {
   "cell_type": "code",
   "execution_count": 18,
   "id": "a61b7705-78de-4b55-92cd-07d51b457e91",
   "metadata": {},
   "outputs": [],
   "source": [
    "frcs=tf.stack(tf_frc(projsf.tensor,ptclsf.tensor,0))\n",
    "tf.math.reduce_mean(frcs[:,:10],1)"
   ]
  },
  {
   "cell_type": "code",
   "execution_count": 28,
   "id": "4b274d85-57c0-45d2-9196-01b8a92c6cc1",
   "metadata": {},
   "outputs": [],
   "source": [
    "#Initialize Gaussians to random values\n",
    "rnd=tf.random.uniform((100,4))\n",
    "rnd+=(-.5,-.5,-.5,100.0)\n",
    "gaus._data=rnd/(4.0,4.0,4.0,100.0)\n",
    "\n"
   ]
  },
  {
   "cell_type": "code",
   "execution_count": 31,
   "id": "85a280f9-7651-475b-8252-618f551aa0f3",
   "metadata": {},
   "outputs": [
    {
     "data": {
      "text/plain": [
       "(<tf.Tensor: shape=(10, 4), dtype=float32, numpy=\n",
       " array([[-0.06804289, -0.01572398,  0.13215725,  0.9901045 ],\n",
       "        [ 0.07442839, -0.08245361, -0.1251184 ,  1.0649745 ],\n",
       "        [ 0.06811549, -0.05047636, -0.10591442,  0.9965065 ],\n",
       "        [-0.05886522, -0.06504864,  0.02711095,  0.94404334],\n",
       "        [-0.09623458,  0.11744577,  0.03807257,  0.93351775],\n",
       "        [ 0.1380825 , -0.05167935, -0.08641298,  1.0887544 ],\n",
       "        [-0.09520481,  0.0150267 , -0.06673578,  1.0326577 ],\n",
       "        [-0.01770332, -0.0244867 , -0.10012727,  0.9975222 ],\n",
       "        [-0.03816146, -0.05606935, -0.13237397,  1.0952895 ],\n",
       "        [-0.07896011, -0.06265385, -0.0904939 ,  1.036947  ]],\n",
       "       dtype=float32)>,\n",
       " <tf.Tensor: shape=(10, 4), dtype=float32, numpy=\n",
       " array([[-0.08951983, -0.11614624, -0.08334197,  0.95720875],\n",
       "        [ 0.0622078 ,  0.00565374,  0.06604336,  1.0348835 ],\n",
       "        [ 0.02437813, -0.02123026,  0.0367891 ,  1.0026112 ],\n",
       "        [ 0.00796423,  0.02169406, -0.10173687,  1.0567319 ],\n",
       "        [ 0.09752198, -0.0846845 ,  0.02744012,  0.92731076],\n",
       "        [ 0.08163057,  0.08821887, -0.12415574,  1.0704291 ],\n",
       "        [-0.07220821, -0.08497812, -0.04770315,  1.0262578 ],\n",
       "        [-0.01534271,  0.08647553,  0.02962296,  0.8739582 ],\n",
       "        [ 0.10062681,  0.07836096,  0.10880458,  1.0532318 ],\n",
       "        [ 0.10034033,  0.01605387,  0.05381241,  1.0620197 ]],\n",
       "       dtype=float32)>)"
      ]
     },
     "execution_count": 31,
     "metadata": {},
     "output_type": "execute_result"
    }
   ],
   "source": [
    "gaus[:10],gaus[-10:]"
   ]
  },
  {
   "cell_type": "code",
   "execution_count": 12,
   "id": "3745df64-536f-4cf1-899b-03be4dcbfdb5",
   "metadata": {},
   "outputs": [],
   "source": [
    "ptclsfds=ptcls.downsample(24)    # downsample specifies the final size, not the amount of downsampling\n",
    "ny=ptclsfds.shape[1]"
   ]
  },
  {
   "cell_type": "code",
   "execution_count": 24,
   "id": "22717286-bbca-48d8-9ab8-a4b465eb65d7",
   "metadata": {},
   "outputs": [
    {
     "data": {
      "text/plain": [
       "<tf.Tensor: shape=(), dtype=float32, numpy=1.1404998>"
      ]
     },
     "execution_count": 24,
     "metadata": {},
     "output_type": "execute_result"
    }
   ],
   "source": [
    "max(gaus[:,3])"
   ]
  },
  {
   "cell_type": "code",
   "execution_count": 34,
   "id": "2bdede34-d868-4ccf-afca-248df9bca621",
   "metadata": {},
   "outputs": [
    {
     "name": "stdout",
     "output_type": "stream",
     "text": [
      "0.4218832552433014\t6.183226108551025\t0.36069416999816895\n",
      "0.42969566583633423\t7.907054424285889\t0.3653753101825714\n",
      "0.43414178490638733\t6.972530841827393\t0.36840447783470154\n",
      "0.44206348061561584\t5.775845527648926\t0.3556816577911377\n",
      "0.44925758242607117\t5.793899059295654\t0.3658798933029175\n",
      "0.4553244709968567\t6.702793598175049\t0.3627201020717621\n",
      "0.4589085280895233\t5.514772891998291\t0.36930277943611145\n",
      "0.46441978216171265\t4.699159622192383\t0.3559567630290985\n",
      "0.4689394533634186\t5.045386791229248\t0.3653113842010498\n",
      "0.47201672196388245\t6.286284446716309\t0.3570215404033661\n",
      "0.4753434658050537\t5.394957542419434\t0.36661234498023987\n",
      "0.47919219732284546\t5.8590569496154785\t0.3523448705673218\n",
      "0.48179927468299866\t5.974534034729004\t0.367990106344223\n",
      "0.4855543375015259\t5.692536354064941\t0.3534810245037079\n",
      "0.48825570940971375\t6.254665851593018\t0.36589059233665466\n",
      "0.4912266731262207\t6.365291595458984\t0.3560218811035156\n",
      "0.49370893836021423\t5.9564290046691895\t0.3614468276500702\n",
      "0.4967828392982483\t5.616421222686768\t0.35001352429389954\n",
      "0.49987611174583435\t5.735839366912842\t0.3561486005783081\n",
      "0.5024018287658691\t8.281950950622559\t0.3660550117492676\n",
      "0.5040568113327026\t6.017578125\t0.35080575942993164\n",
      "0.5069454908370972\t5.6104278564453125\t0.348877876996994\n",
      "0.5093381404876709\t5.279404640197754\t0.3426171839237213\n",
      "0.5119284987449646\t6.505740642547607\t0.34637951850891113\n",
      "0.5136247873306274\t6.181846618652344\t0.3450746238231659\n",
      "0.5162896513938904\t5.255977630615234\t0.3368382453918457\n",
      "0.5188270211219788\t5.340551376342773\t0.3380359411239624\n",
      "0.5206404328346252\t7.354085445404053\t0.3438710570335388\n",
      "0.5226797461509705\t5.406371116638184\t0.33964747190475464\n",
      "0.526016116142273\t5.292247295379639\t0.3301304578781128\n",
      "0.5274330973625183\t5.721945762634277\t0.3448771834373474\n",
      "0.5303101539611816\t5.438559532165527\t0.3341696262359619\n"
     ]
    }
   ],
   "source": [
    "# \"learn\" Gaussian locations test on downsampled particles\n",
    "for i in range(32):\n",
    "    with tf.GradientTape() as gt:\n",
    "        gt.watch(gaus.tensor)\n",
    "        projs=gaus.project_simple(orts,ny,txty=txty)\n",
    "        projsf=projs.do_fft()\n",
    "        frcs=tf_frc(projsf.tensor,ptclsfds.tensor,-1)\n",
    "    grad=gt.gradient(frcs,gaus._data)\n",
    "    qual=tf.math.reduce_mean(frcs)\n",
    "    shift=tf.math.reduce_std(grad[:,:3])\n",
    "    sca=tf.math.reduce_std(grad[:,3])\n",
    "    xyzs=1.0/(shift*1000)   # xyz scale\n",
    "    gaus.add_tensor(grad*(xyzs,xyzs,xyzs,1.0/(sca*500)))\n",
    "    print(f\"{float(qual)}\\t{float(shift)}\\t{float(sca)}\")\n"
   ]
  },
  {
   "cell_type": "code",
   "execution_count": 61,
   "id": "23870a9f-dbb4-471b-8321-797c11f54344",
   "metadata": {},
   "outputs": [
    {
     "name": "stdout",
     "output_type": "stream",
     "text": [
      "0.5992359519004822\t3.607722520828247\n",
      "0.6222471594810486\t2.9173660278320312\n",
      "0.6405577659606934\t2.299583673477173\n",
      "0.6548011302947998\t1.8245238065719604\n",
      "0.6660016179084778\t1.4766881465911865\n",
      "0.675089418888092\t1.2581884860992432\n",
      "0.682397723197937\t1.0515044927597046\n",
      "0.6877304315567017\t0.993125855922699\n",
      "0.6915033459663391\t1.104539155960083\n",
      "0.6943872570991516\t1.1641767024993896\n",
      "0.6964638829231262\t1.1463381052017212\n",
      "0.6974629759788513\t1.2180379629135132\n",
      "0.6984103322029114\t1.2186729907989502\n",
      "0.6990590691566467\t1.237385869026184\n",
      "0.6998651623725891\t1.2380579710006714\n",
      "0.7003649473190308\t1.2703198194503784\n"
     ]
    }
   ],
   "source": [
    "# \"learn\" Gaussian locations test\n",
    "nx=map1[\"nx\"]\n",
    "for i in range(16):\n",
    "    with tf.GradientTape() as gt:\n",
    "        gt.watch(gaus.tensor)\n",
    "        projs=gaus.project_simple(orts,nx,txty=txty)\n",
    "        projsf=projs.do_fft()\n",
    "        frcs=tf_frc(projsf.tensor,ptclsf.tensor,28)\n",
    "    grad=gt.gradient(frcs,gaus._data)\n",
    "    qual=tf.math.reduce_mean(frcs)\n",
    "    shift=tf.math.reduce_std(grad[:,:3])\n",
    "    xyzs=1.0/(shift*1000)   # xyz scale\n",
    "    gaus.add_tensor(grad*(xyzs,xyzs,xyzs,0.0))\n",
    "    print(f\"{float(qual)}\\t{float(shift)}\")\n"
   ]
  },
  {
   "cell_type": "code",
   "execution_count": 10,
   "id": "782b9326-7bfe-4fc0-ac2e-2795dbdfe4b3",
   "metadata": {},
   "outputs": [],
   "source": [
    "projs.write_images(\"A_reproj_opt.hdf\")"
   ]
  },
  {
   "cell_type": "code",
   "execution_count": 33,
   "id": "9d685791-2232-4067-9fa6-5cb12cbcef2d",
   "metadata": {},
   "outputs": [],
   "source": [
    "vol=gaus.volume(map1[\"nx\"])\n",
    "vol.write_images(\"A_vol_opt.hdf\")"
   ]
  },
  {
   "cell_type": "code",
   "execution_count": 19,
   "id": "5bb45027-415a-4fd2-a346-29e5968cedc6",
   "metadata": {},
   "outputs": [
    {
     "data": {
      "text/plain": [
       "(0.0, 0.0)"
      ]
     },
     "execution_count": 19,
     "metadata": {},
     "output_type": "execute_result"
    }
   ],
   "source": [
    "t=Transform()\n",
    "tuple(t.get_trans_2d())"
   ]
  },
  {
   "cell_type": "code",
   "execution_count": 18,
   "id": "3b2ec946-4718-4c05-b91a-df9ae6460567",
   "metadata": {},
   "outputs": [
    {
     "data": {
      "text/plain": [
       "(3, 2)"
      ]
     },
     "execution_count": 18,
     "metadata": {},
     "output_type": "execute_result"
    }
   ],
   "source": [
    "np.array(((1,1),(0,0),(1,0))).shape"
   ]
  },
  {
   "cell_type": "code",
   "execution_count": null,
   "id": "1914e260-72ee-4e20-948d-262d0335b58b",
   "metadata": {},
   "outputs": [],
   "source": []
  }
 ],
 "metadata": {
  "kernelspec": {
   "display_name": "Python 3 (ipykernel)",
   "language": "python",
   "name": "python3"
  },
  "language_info": {
   "codemirror_mode": {
    "name": "ipython",
    "version": 3
   },
   "file_extension": ".py",
   "mimetype": "text/x-python",
   "name": "python",
   "nbconvert_exporter": "python",
   "pygments_lexer": "ipython3",
   "version": "3.11.7"
  }
 },
 "nbformat": 4,
 "nbformat_minor": 5
}
