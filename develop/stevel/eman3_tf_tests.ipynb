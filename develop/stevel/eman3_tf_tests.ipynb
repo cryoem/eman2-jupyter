{
 "cells": [
  {
   "cell_type": "code",
   "execution_count": 1,
   "id": "ffd6af5e-f43b-4199-b7ea-871809352fdd",
   "metadata": {},
   "outputs": [
    {
     "name": "stderr",
     "output_type": "stream",
     "text": [
      "2024-04-28 09:31:14.232886: I tensorflow/core/platform/cpu_feature_guard.cc:182] This TensorFlow binary is optimized to use available CPU instructions in performance-critical operations.\n",
      "To enable the following instructions: SSE4.1 SSE4.2 AVX AVX2 FMA, in other operations, rebuild TensorFlow with the appropriate compiler flags.\n",
      "2024-04-28 09:31:15.849400: I tensorflow/compiler/xla/stream_executor/cuda/cuda_gpu_executor.cc:996] successful NUMA node read from SysFS had negative value (-1), but there must be at least one NUMA node, so returning NUMA node zero. See more at https://github.com/torvalds/linux/blob/v6.0/Documentation/ABI/testing/sysfs-bus-pci#L344-L355\n",
      "2024-04-28 09:31:15.864022: I tensorflow/compiler/xla/stream_executor/cuda/cuda_gpu_executor.cc:996] successful NUMA node read from SysFS had negative value (-1), but there must be at least one NUMA node, so returning NUMA node zero. See more at https://github.com/torvalds/linux/blob/v6.0/Documentation/ABI/testing/sysfs-bus-pci#L344-L355\n",
      "2024-04-28 09:31:15.864214: I tensorflow/compiler/xla/stream_executor/cuda/cuda_gpu_executor.cc:996] successful NUMA node read from SysFS had negative value (-1), but there must be at least one NUMA node, so returning NUMA node zero. See more at https://github.com/torvalds/linux/blob/v6.0/Documentation/ABI/testing/sysfs-bus-pci#L344-L355\n",
      "2024-04-28 09:31:15.865716: I tensorflow/compiler/xla/stream_executor/cuda/cuda_gpu_executor.cc:996] successful NUMA node read from SysFS had negative value (-1), but there must be at least one NUMA node, so returning NUMA node zero. See more at https://github.com/torvalds/linux/blob/v6.0/Documentation/ABI/testing/sysfs-bus-pci#L344-L355\n",
      "2024-04-28 09:31:15.866203: I tensorflow/compiler/xla/stream_executor/cuda/cuda_gpu_executor.cc:996] successful NUMA node read from SysFS had negative value (-1), but there must be at least one NUMA node, so returning NUMA node zero. See more at https://github.com/torvalds/linux/blob/v6.0/Documentation/ABI/testing/sysfs-bus-pci#L344-L355\n",
      "2024-04-28 09:31:15.866427: I tensorflow/compiler/xla/stream_executor/cuda/cuda_gpu_executor.cc:996] successful NUMA node read from SysFS had negative value (-1), but there must be at least one NUMA node, so returning NUMA node zero. See more at https://github.com/torvalds/linux/blob/v6.0/Documentation/ABI/testing/sysfs-bus-pci#L344-L355\n",
      "2024-04-28 09:31:15.927012: I tensorflow/compiler/xla/stream_executor/cuda/cuda_gpu_executor.cc:996] successful NUMA node read from SysFS had negative value (-1), but there must be at least one NUMA node, so returning NUMA node zero. See more at https://github.com/torvalds/linux/blob/v6.0/Documentation/ABI/testing/sysfs-bus-pci#L344-L355\n",
      "2024-04-28 09:31:15.927215: I tensorflow/compiler/xla/stream_executor/cuda/cuda_gpu_executor.cc:996] successful NUMA node read from SysFS had negative value (-1), but there must be at least one NUMA node, so returning NUMA node zero. See more at https://github.com/torvalds/linux/blob/v6.0/Documentation/ABI/testing/sysfs-bus-pci#L344-L355\n",
      "2024-04-28 09:31:15.927353: I tensorflow/compiler/xla/stream_executor/cuda/cuda_gpu_executor.cc:996] successful NUMA node read from SysFS had negative value (-1), but there must be at least one NUMA node, so returning NUMA node zero. See more at https://github.com/torvalds/linux/blob/v6.0/Documentation/ABI/testing/sysfs-bus-pci#L344-L355\n",
      "2024-04-28 09:31:15.927460: I tensorflow/core/common_runtime/gpu/gpu_device.cc:1635] Created device /job:localhost/replica:0/task:0/device:GPU:0 with 4096 MB memory:  -> device: 0, name: NVIDIA GeForce RTX 3070 Ti, pci bus id: 0000:01:00.0, compute capability: 8.6\n"
     ]
    },
    {
     "data": {
      "text/plain": [
       "<tensorflow.python.eager.context._EagerDeviceContext at 0x7df614a68d40>"
      ]
     },
     "execution_count": 1,
     "metadata": {},
     "output_type": "execute_result"
    }
   ],
   "source": [
    "from EMAN3 import *\n",
    "from EMAN3tensor import *\n",
    "import numpy as np\n",
    "tf_set_device(dev=0,maxmem=4096)"
   ]
  },
  {
   "cell_type": "code",
   "execution_count": 2,
   "id": "a19a9d69-58a9-496a-8e23-0ad6b3d57773",
   "metadata": {},
   "outputs": [],
   "source": [
    "orts=Orientations(np.array([[0,0,0],[0,0,.25],[0,0,.5],[0,0,.75],[0.125,0,0],[0.25,0,0],[0.375,0,0],[0.5,0,0]]))"
   ]
  },
  {
   "cell_type": "code",
   "execution_count": 3,
   "id": "f4f195c9-961c-4fa5-9ddb-54746df4c333",
   "metadata": {},
   "outputs": [
    {
     "data": {
      "text/plain": [
       "<tf.Tensor: shape=(2, 3, 8), dtype=float32, numpy=\n",
       "array([[[ 1.0000000e+00, -1.1920929e-07, -1.0000000e+00, -1.1920929e-07,\n",
       "          1.0000000e+00,  1.0000000e+00,  1.0000000e+00,  1.0000000e+00],\n",
       "        [ 0.0000000e+00, -1.0000000e+00,  8.7422777e-08,  1.0000000e+00,\n",
       "          0.0000000e+00,  0.0000000e+00,  0.0000000e+00,  0.0000000e+00],\n",
       "        [ 0.0000000e+00,  0.0000000e+00,  0.0000000e+00,  0.0000000e+00,\n",
       "          0.0000000e+00,  0.0000000e+00,  0.0000000e+00,  0.0000000e+00]],\n",
       "\n",
       "       [[ 0.0000000e+00,  1.0000000e+00, -8.7422777e-08, -1.0000000e+00,\n",
       "          0.0000000e+00,  0.0000000e+00,  0.0000000e+00,  0.0000000e+00],\n",
       "        [ 1.0000000e+00, -1.1920929e-07, -1.0000000e+00, -1.1920929e-07,\n",
       "          7.0710671e-01, -1.1920929e-07, -7.0710695e-01, -1.0000000e+00],\n",
       "        [ 0.0000000e+00,  0.0000000e+00,  0.0000000e+00,  0.0000000e+00,\n",
       "         -7.0710683e-01, -1.0000000e+00, -7.0710683e-01,  8.7422777e-08]]],\n",
       "      dtype=float32)>"
      ]
     },
     "execution_count": 3,
     "metadata": {},
     "output_type": "execute_result"
    }
   ],
   "source": [
    "orts.to_mx2d()"
   ]
  },
  {
   "cell_type": "code",
   "execution_count": 3,
   "id": "be8efd99-25f9-46ed-ad67-ea13336d5550",
   "metadata": {},
   "outputs": [],
   "source": [
    "gaus=Gaussians(np.array([[0.0,0.0,0.0,1.0],[.3,0,0,1],[0,.3,0,.5],[0,0,.3,.25],[0,0,-.1,.25]]))"
   ]
  },
  {
   "cell_type": "code",
   "execution_count": 5,
   "id": "e3173afb-2ecb-4e4a-8aaf-20b54133991d",
   "metadata": {},
   "outputs": [
    {
     "name": "stderr",
     "output_type": "stream",
     "text": [
      "2024-02-03 20:23:07.132239: I tensorflow/compiler/xla/stream_executor/cuda/cuda_blas.cc:637] TensorFloat-32 will be used for the matrix multiplication. This will only be logged once.\n"
     ]
    }
   ],
   "source": [
    "imgs=gaus.project_simple(orts,64)"
   ]
  },
  {
   "cell_type": "code",
   "execution_count": 6,
   "id": "e3d27c0e-83d1-472e-98af-791e0432722e",
   "metadata": {},
   "outputs": [],
   "source": [
    "emimgs=from_tf(imgs,True)"
   ]
  },
  {
   "cell_type": "code",
   "execution_count": 7,
   "id": "e1db6c71-9611-47f7-88c7-98da2cd27fca",
   "metadata": {},
   "outputs": [],
   "source": [
    "imgsf=tf_fft2d(imgs)"
   ]
  },
  {
   "cell_type": "code",
   "execution_count": 10,
   "id": "e4b26bc5-45a0-4620-af4f-b6ef03f7a7af",
   "metadata": {},
   "outputs": [
    {
     "name": "stdout",
     "output_type": "stream",
     "text": [
      "(46,) (64, 33, 1) (2, 64, 33)\n",
      "(46,) (64, 33, 1) (2, 64, 33)\n"
     ]
    },
    {
     "data": {
      "text/plain": [
       "<tf.Tensor: shape=(2,), dtype=float32, numpy=array([0.7433562, 0.7350201], dtype=float32)>"
      ]
     },
     "execution_count": 10,
     "metadata": {},
     "output_type": "execute_result"
    }
   ],
   "source": [
    "tf_frc(imgsf[:2],imgsf[2:4],True)"
   ]
  },
  {
   "cell_type": "code",
   "execution_count": null,
   "id": "72c5f5fc-e739-46cf-b766-7fb42b90faa8",
   "metadata": {},
   "outputs": [],
   "source": [
    "ptcls=EMData.read_images(\"/home2/stevel/test3d/ptcls_08_even.hdf\")\n",
    "xfs=[ptcl[\"xform_projection\"] for ptcl in ptcls]"
   ]
  },
  {
   "cell_type": "code",
   "execution_count": 3,
   "id": "ef37fccb-7b25-4e59-8dde-e8d2db4597c9",
   "metadata": {},
   "outputs": [
    {
     "data": {
      "text/plain": [
       "numpy.ndarray"
      ]
     },
     "execution_count": 3,
     "metadata": {},
     "output_type": "execute_result"
    }
   ],
   "source": [
    "type(np.zeros(5,dtype=\"float32\"))"
   ]
  },
  {
   "cell_type": "code",
   "execution_count": 2,
   "id": "34305630-28db-483d-b676-b5e415d14034",
   "metadata": {},
   "outputs": [],
   "source": [
    "N=8\n",
    "x=EMStack2D([test_image(size=(1024,1024)) for i in range(N)])\n",
    "for i in range(N): x.emdata[i].translate(i*3,i*2,0)"
   ]
  },
  {
   "cell_type": "code",
   "execution_count": 4,
   "id": "3eb1c8ed-6a59-4744-9d93-9ad09cc0fe55",
   "metadata": {},
   "outputs": [
    {
     "data": {
      "text/plain": [
       "True"
      ]
     },
     "execution_count": 4,
     "metadata": {},
     "output_type": "execute_result"
    }
   ],
   "source": [
    "xf=x.do_fft()\n",
    "cf=xf.calc_ccf(xf[0],center=True)\n",
    "#cfp=tf_phaseorigin2d(cf.tensor)\n",
    "cfr=cf.do_ift()\n",
    "EMData.write_images(\"ccf.hdf\",cfr.emdata)"
   ]
  },
  {
   "cell_type": "code",
   "execution_count": 4,
   "id": "b95b2db6-118e-4b4f-b038-b07fb6c7ed30",
   "metadata": {},
   "outputs": [
    {
     "data": {
      "text/plain": [
       "tf.complex64"
      ]
     },
     "execution_count": 4,
     "metadata": {},
     "output_type": "execute_result"
    }
   ],
   "source": [
    "tf.complex64"
   ]
  },
  {
   "cell_type": "code",
   "execution_count": 5,
   "id": "92978f12-ec5d-497a-9070-c9ea6f1f0a9e",
   "metadata": {},
   "outputs": [
    {
     "data": {
      "text/plain": [
       "<tf.Tensor: shape=(1024, 1024), dtype=float32, numpy=\n",
       "array([[0., 0., 0., ..., 0., 0., 0.],\n",
       "       [0., 0., 0., ..., 0., 0., 0.],\n",
       "       [0., 0., 0., ..., 0., 0., 0.],\n",
       "       ...,\n",
       "       [0., 0., 0., ..., 0., 0., 0.],\n",
       "       [0., 0., 0., ..., 0., 0., 0.],\n",
       "       [0., 0., 0., ..., 0., 0., 0.]], dtype=float32)>"
      ]
     },
     "execution_count": 5,
     "metadata": {},
     "output_type": "execute_result"
    }
   ],
   "source": [
    "x[0].div"
   ]
  },
  {
   "cell_type": "code",
   "execution_count": null,
   "id": "601b2044-b9c8-4f94-8e10-21a19996d8d1",
   "metadata": {},
   "outputs": [],
   "source": []
  },
  {
   "cell_type": "code",
   "execution_count": 6,
   "id": "a339613b-c074-4106-ba21-c3581fa071f9",
   "metadata": {},
   "outputs": [
    {
     "name": "stdout",
     "output_type": "stream",
     "text": [
      "(168, 3) (168,)\n",
      "(4, 168) [ 0.         0.         0.         0.         0.         0.\n",
      "  0.         0.         0.         0.         0.         0.\n",
      "  0.         0.         0.         0.         0.         0.\n",
      "  0.         0.         0.         0.         0.         0.\n",
      "  0.         0.         0.         0.         0.         0.\n",
      "  0.         0.         0.         0.         0.         0.\n",
      "  0.         0.         0.         0.         0.         0.\n",
      "  0.         0.         0.         0.         0.         0.4375\n",
      " -0.4375    -0.375      0.375     -0.34375    0.3359375 -0.3125\n",
      " -0.4921875  0.4921875  0.296875  -0.28125    0.2578125 -0.25\n",
      " -0.2109375  0.2109375 -0.1796875  0.171875  -0.1484375  0.1328125\n",
      " -0.1171875  0.09375   -0.0859375 -0.0546875  0.0546875  0.\n",
      "  0.         0.         0.         0.         0.        -0.40625\n",
      "  0.40625    0.         0.         0.         0.         0.\n",
      "  0.        -0.4609375  0.46875    0.         0.         0.03125\n",
      "  0.         0.         0.234375  -0.0390625  0.         0.\n",
      "  0.         0.         0.         0.         0.         0.\n",
      "  0.         0.         0.         0.         0.3515625  0.2734375\n",
      "  0.3125     0.1875    -0.2265625  0.1484375  0.109375   0.0703125\n",
      "  0.         0.         0.         0.         0.         0.\n",
      "  0.         0.         0.         0.         0.         0.\n",
      "  0.         0.         0.         0.        -0.359375  -0.328125\n",
      " -0.265625  -0.1953125 -0.1640625 -0.1328125 -0.1015625 -0.0234375\n",
      "  0.         0.         0.         0.         0.453125  -0.4765625\n",
      "  0.         0.         0.         0.         0.         0.\n",
      "  0.390625  -0.421875   0.         0.         0.         0.\n",
      "  0.         0.        -0.390625  -0.296875   0.         0.\n",
      " -0.0703125  0.0078125  0.         0.         0.         0.421875 ]\n"
     ]
    }
   ],
   "source": [
    "# Developing init_from_map method\n",
    "emd=test_image_3d()\n",
    "seg=emd.process(\"segment.gauss\",{\"minratio\":0.1,\"width\":4,\"skipseg\":1})\n",
    "amps=np.array(seg[\"segment_amps\"])\n",
    "centers=np.array(seg[\"segment_centers\"]).reshape(len(amps),3)\n",
    "centers/=(emd[\"nx\"],emd[\"ny\"],emd[\"nz\"])\n",
    "centers-=(0.5,0.5,0.5)\n",
    "amps/=max(amps)\n",
    "print(centers.shape,amps.shape)\n",
    "cc=np.concatenate((centers.transpose(),amps.reshape((1,len(amps)))))\n",
    "print(cc.shape,cc[0])\n",
    "#"
   ]
  },
  {
   "cell_type": "code",
   "execution_count": 2,
   "id": "60fe99dc-062c-4c40-b0ef-493182ff7586",
   "metadata": {},
   "outputs": [
    {
     "name": "stdout",
     "output_type": "stream",
     "text": [
      "524  gaussians init\n"
     ]
    },
    {
     "name": "stderr",
     "output_type": "stream",
     "text": [
      "2024-04-28 09:31:22.082688: I tensorflow/compiler/xla/stream_executor/cuda/cuda_blas.cc:637] TensorFloat-32 will be used for the matrix multiplication. This will only be logged once.\n"
     ]
    }
   ],
   "source": [
    "# Testing orientation conversion and making sure projection directions match\n",
    "# This is also necessary to initialize the test code below for training Gaussian locations based on FRC\n",
    "\n",
    "map1=EMData(\"A.hdf\")\n",
    "gaus=Gaussians()\n",
    "gaus.init_from_map(map1,4,.5)\n",
    "print(len(gaus),\" gaussians init\")\n",
    "\n",
    "ptcls=EMStack2D(\"A_proj.hdf\")\n",
    "orts,txty=ptcls.orientations\n",
    "\n",
    "projs=gaus.project_simple(orts,map1[\"nx\"],txty=txty)\n",
    "#projs.write_images(\"A_reproj.hdf\")\n",
    "projsf=projs.do_fft()\n",
    "ptclsf=ptcls.do_fft()\n"
   ]
  },
  {
   "cell_type": "code",
   "execution_count": 18,
   "id": "a61b7705-78de-4b55-92cd-07d51b457e91",
   "metadata": {},
   "outputs": [],
   "source": [
    "frcs=tf.stack(tf_frc(projsf.tensor,ptclsf.tensor,0))\n",
    "tf.math.reduce_mean(frcs[:,:10],1)"
   ]
  },
  {
   "cell_type": "code",
   "execution_count": 16,
   "id": "85a280f9-7651-475b-8252-618f551aa0f3",
   "metadata": {},
   "outputs": [
    {
     "data": {
      "text/plain": [
       "(<tf.Tensor: shape=(10, 4), dtype=float32, numpy=\n",
       " array([[ 0.12574698, -0.01763662,  0.18162225,  1.20302   ],\n",
       "        [-0.2699838 , -0.232636  , -0.16886197,  0.80234945],\n",
       "        [-0.06377809,  0.29177746,  0.2267061 ,  0.83272314],\n",
       "        [-0.13837768,  0.00836201,  0.13462907,  1.4371006 ],\n",
       "        [ 0.26495618,  0.09185651, -0.02593795,  0.78029126],\n",
       "        [-0.32194087, -0.22268036,  0.04040026,  0.7900227 ],\n",
       "        [-0.27107474,  0.21034245, -0.10087233,  0.7808461 ],\n",
       "        [ 0.2499975 ,  0.18103234, -0.20780838,  0.75521183],\n",
       "        [-0.11619762, -0.03932963, -0.21887048,  1.2198398 ],\n",
       "        [ 0.3659084 , -0.15836214,  0.04481811,  0.82320106]],\n",
       "       dtype=float32)>,\n",
       " <tf.Tensor: shape=(10, 4), dtype=float32, numpy=\n",
       " array([[-0.09368034,  0.34990695, -0.2862136 ,  0.87195563],\n",
       "        [-0.21898794,  0.2936428 , -0.11192943,  0.8356592 ],\n",
       "        [ 0.12116119, -0.03710902, -0.06740739,  1.4182018 ],\n",
       "        [-0.09688495,  0.07768627, -0.12889177,  1.3306088 ],\n",
       "        [-0.2232125 , -0.15424743, -0.19779892,  0.82642883],\n",
       "        [-0.06627395, -0.12355874,  0.08549568,  1.2331682 ],\n",
       "        [ 0.05972219, -0.07070057,  0.21666725,  1.2698824 ],\n",
       "        [ 0.3395959 ,  0.2714627 , -0.28473926,  0.8393297 ],\n",
       "        [ 0.07792314,  0.34744155,  0.10505065,  0.8206187 ],\n",
       "        [ 0.12489592, -0.28182048,  0.15367557,  0.8426755 ]],\n",
       "       dtype=float32)>)"
      ]
     },
     "execution_count": 16,
     "metadata": {},
     "output_type": "execute_result"
    }
   ],
   "source": [
    "gaus[:10],gaus[-10:]"
   ]
  },
  {
   "cell_type": "code",
   "execution_count": 10,
   "id": "3745df64-536f-4cf1-899b-03be4dcbfdb5",
   "metadata": {},
   "outputs": [],
   "source": [
    "#Initialize Gaussians to random values with amplitudes over a narrow range\n",
    "rnd=tf.random.uniform((500,4))     # specify the number of Gaussians to start with here\n",
    "rnd+=(-.5,-.5,-.5,100.0)\n",
    "gaus._data=rnd/(1.5,1.5,1.5,100.0)\n",
    "\n",
    "# initial downsampling\n",
    "ptclsfds=ptcls.downsample(16)    # downsample specifies the final size, not the amount of downsampling\n",
    "ny=ptclsfds.shape[1]"
   ]
  },
  {
   "cell_type": "code",
   "execution_count": 11,
   "id": "2bdede34-d868-4ccf-afca-248df9bca621",
   "metadata": {},
   "outputs": [
    {
     "name": "stdout",
     "output_type": "stream",
     "text": [
      "0) 0.35528624057769775\t4.914833068847656\t0.3834434747695923\n",
      "1) 0.39192450046539307\t4.833830833435059\t0.3878040909767151\n",
      "2) 0.4279410243034363\t4.733438968658447\t0.3905066251754761\n",
      "3) 0.463177889585495\t4.619595527648926\t0.3918691575527191\n",
      "4) 0.4975927770137787\t4.504326343536377\t0.3922547399997711\n",
      "5) 0.5312004685401917\t4.383525371551514\t0.3915213644504547\n",
      "6) 0.563849687576294\t4.2362236976623535\t0.38969215750694275\n",
      "7) 0.5952832102775574\t4.055760860443115\t0.3866572976112366\n",
      "8) 0.6253888607025146\t3.8703832626342773\t0.38236889243125916\n",
      "9) 0.6540690660476685\t3.6701273918151855\t0.37700334191322327\n",
      "10) 0.6812769770622253\t3.4610109329223633\t0.37084513902664185\n",
      "11) 0.7069774866104126\t3.2677650451660156\t0.36413127183914185\n",
      "12) 0.7313504815101624\t3.0825955867767334\t0.35705700516700745\n",
      "13) 0.7543268203735352\t2.888688087463379\t0.34980344772338867\n",
      "14) 0.7758808732032776\t2.7074086666107178\t0.34238022565841675\n",
      "15) 0.7961642742156982\t2.5364136695861816\t0.33493098616600037\n",
      "16) 0.8152087330818176\t2.3651041984558105\t0.3276849091053009\n",
      "17) 0.8329874873161316\t2.2153778076171875\t0.32083410024642944\n",
      "18) 0.8498288989067078\t2.086960792541504\t0.31442078948020935\n",
      "19) 0.8657498955726624\t1.9739972352981567\t0.3083396852016449\n",
      "20) 0.8808639645576477\t1.8589859008789062\t0.30250057578086853\n",
      "21) 0.8951536417007446\t1.7518664598464966\t0.2969130873680115\n",
      "22) 0.9086684584617615\t1.6488304138183594\t0.2915898859500885\n",
      "23) 0.9214287400245667\t1.5468649864196777\t0.28633782267570496\n",
      "24) 0.933495283126831\t1.4607017040252686\t0.28110256791114807\n",
      "25) 0.9449929594993591\t1.3939520120620728\t0.2757472097873688\n",
      "26) 0.9560214877128601\t1.3355213403701782\t0.27015596628189087\n",
      "27) 0.9666014909744263\t1.2800291776657104\t0.2643042504787445\n",
      "28) 0.9767895936965942\t1.2343157529830933\t0.25811848044395447\n",
      "29) 0.9866398572921753\t1.1907581090927124\t0.25173336267471313\n",
      "30) 0.9961752891540527\t1.15062415599823\t0.24501736462116241\n",
      "31) 1.0053808689117432\t1.1076176166534424\t0.23813605308532715\n",
      "32) 1.014242172241211\t1.0637280941009521\t0.23103460669517517\n",
      "33) 1.0227497816085815\t1.01870596408844\t0.22382009029388428\n",
      "34) 1.0309091806411743\t0.9776648879051208\t0.216353178024292\n",
      "35) 1.038728952407837\t0.9329934120178223\t0.20872862637043\n",
      "36) 1.046162724494934\t0.879218578338623\t0.20107588171958923\n",
      "37) 1.0532050132751465\t0.8331634998321533\t0.19348831474781036\n",
      "38) 1.0598610639572144\t0.7835837006568909\t0.18597637116909027\n",
      "39) 1.0661218166351318\t0.7322648167610168\t0.17855983972549438\n",
      "40) 1.0720086097717285\t0.689736008644104\t0.1713879257440567\n",
      "41) 1.0775147676467896\t0.6464337706565857\t0.16445806622505188\n",
      "42) 1.0827383995056152\t0.6113861203193665\t0.1578052043914795\n",
      "43) 1.0876734256744385\t0.5813862681388855\t0.15136905014514923\n",
      "44) 1.0923795700073242\t0.5516107678413391\t0.14524002373218536\n",
      "45) 1.0968257188796997\t0.5191707611083984\t0.13938359916210175\n",
      "46) 1.1010454893112183\t0.49243199825286865\t0.1338559091091156\n",
      "47) 1.1050642728805542\t0.471142441034317\t0.12852109968662262\n",
      "48) 1.1088908910751343\t0.44639289379119873\t0.12350768595933914\n",
      "49) 1.1125088930130005\t0.42167574167251587\t0.11864534765481949\n",
      "50) 1.1159276962280273\t0.40182504057884216\t0.1139039695262909\n",
      "51) 1.1191344261169434\t0.38459110260009766\t0.10927247256040573\n",
      "52) 1.122098445892334\t0.37654897570610046\t0.1048050969839096\n",
      "53) 1.124771237373352\t0.39236751198768616\t0.10063835978507996\n",
      "54) 1.1270228624343872\t0.43284475803375244\t0.09687481075525284\n",
      "55) 1.1288825273513794\t0.4804905951023102\t0.09339781105518341\n",
      "56) 1.1305437088012695\t0.48606425523757935\t0.09073426574468613\n",
      "57) 1.1321455240249634\t0.4899309575557709\t0.08717911690473557\n",
      "58) 1.133552074432373\t0.48901745676994324\t0.08518675714731216\n",
      "59) 1.1349146366119385\t0.49148470163345337\t0.08158941566944122\n",
      "60) 1.1361050605773926\t0.4890950918197632\t0.08016769587993622\n",
      "61) 1.1373013257980347\t0.49439820647239685\t0.07653257250785828\n",
      "62) 1.1383346319198608\t0.4887106120586395\t0.07571855187416077\n",
      "63) 1.1393808126449585\t0.4964718222618103\t0.07200736552476883\n",
      "tf.Tensor([-0.43916202 -0.41476798 -0.4357921   0.8481628 ], shape=(4,), dtype=float32) tf.Tensor([0.41900986 0.41042653 0.4095503  1.286139  ], shape=(4,), dtype=float32) tf.Tensor([ 0.00330975  0.00511515 -0.00811943  0.9987822 ], shape=(4,), dtype=float32)\n"
     ]
    }
   ],
   "source": [
    "# \"learn\" Gaussian locations test on downsampled particles\n",
    "for i in range(64):\n",
    "    with tf.GradientTape() as gt:\n",
    "        gt.watch(gaus.tensor)\n",
    "        projs=gaus.project_simple(orts,ny,txty=txty)\n",
    "        projsf=projs.do_fft()\n",
    "        frcs=tf_frc(projsf.tensor,ptclsfds.tensor,8,1.5)\n",
    "    grad=gt.gradient(frcs,gaus._data)\n",
    "    qual=tf.math.reduce_mean(frcs)\n",
    "    shift=tf.math.reduce_std(grad[:,:3])\n",
    "    sca=tf.math.reduce_std(grad[:,3])\n",
    "    xyzs=1.0/(shift*1000)   # xyz scale\n",
    "    gaus.add_tensor(grad*(xyzs,xyzs,xyzs,1.0/(sca*500)))\n",
    "    print(f\"{i}) {float(qual)}\\t{float(shift)}\\t{float(sca)}\")\n",
    "\n",
    "print(tf.reduce_min(gaus.tensor,0),tf.reduce_max(gaus.tensor,0),tf.reduce_mean(gaus.tensor,0))\n",
    "vol=gaus.volume(map1[\"nx\"])\n",
    "vol.emdata[0].process_inplace(\"filter.lowpass.gauss\",{\"cutoff_abs\":0.3})\n",
    "vol.write_images(\"A_vol_opt_1.hdf\")"
   ]
  },
  {
   "cell_type": "code",
   "execution_count": 12,
   "id": "f2afe539-ea35-4f6f-9994-02225cf14fc1",
   "metadata": {},
   "outputs": [
    {
     "name": "stdout",
     "output_type": "stream",
     "text": [
      "500\n",
      "217\n",
      "868\n"
     ]
    }
   ],
   "source": [
    "print(len(gaus))\n",
    "gaus.norm_filter(thr=.75)\n",
    "print(len(gaus))\n",
    "gaus.replicate(4,.02)\n",
    "print(len(gaus))\n",
    "\n",
    "ptclsfds=ptcls.downsample(32)    # downsample specifies the final size, not the amount of downsampling\n",
    "ny=ptclsfds.shape[1]"
   ]
  },
  {
   "cell_type": "code",
   "execution_count": 13,
   "id": "23870a9f-dbb4-471b-8321-797c11f54344",
   "metadata": {},
   "outputs": [
    {
     "name": "stdout",
     "output_type": "stream",
     "text": [
      "0) 0.6994509696960449\t4.0980682373046875\t0.11501022428274155\n",
      "1) 0.750622034072876\t4.022082328796387\t0.11405118554830551\n",
      "2) 0.8002968430519104\t3.859147310256958\t0.11160175502300262\n",
      "3) 0.8476165533065796\t3.6389060020446777\t0.10791453719139099\n",
      "4) 0.891668975353241\t3.342344284057617\t0.10331334918737411\n",
      "5) 0.9317454695701599\t3.0028598308563232\t0.09793845564126968\n",
      "6) 0.9673332571983337\t2.6322193145751953\t0.09218120574951172\n",
      "7) 0.9982870221138\t2.2589635848999023\t0.08611619472503662\n",
      "8) 1.0245095491409302\t1.8916376829147339\t0.07973641902208328\n",
      "9) 1.0464437007904053\t1.5716102123260498\t0.07323280721902847\n",
      "10) 1.0646402835845947\t1.2952909469604492\t0.06677637994289398\n",
      "11) 1.0795844793319702\t1.0565744638442993\t0.06060481444001198\n",
      "12) 1.0917764902114868\t0.8563822507858276\t0.05493168905377388\n",
      "13) 1.1017041206359863\t0.6942606568336487\t0.049914464354515076\n",
      "14) 1.1097604036331177\t0.5627877712249756\t0.04528721794486046\n",
      "15) 1.1162859201431274\t0.4530074894428253\t0.041202399879693985\n",
      "16) 1.121507167816162\t0.3712860941886902\t0.03737077862024307\n",
      "17) 1.1256263256072998\t0.33572161197662354\t0.03444671258330345\n",
      "18) 1.1280617713928223\t0.49462032318115234\t0.03233877196907997\n",
      "19) 1.12843656539917\t0.6608744263648987\t0.03256485238671303\n",
      "20) 1.1303119659423828\t0.5668118000030518\t0.03079071082174778\n",
      "21) 1.1306915283203125\t0.6575765609741211\t0.03114156238734722\n",
      "22) 1.132021188735962\t0.593194305896759\t0.029739361256361008\n",
      "23) 1.1323728561401367\t0.6582245230674744\t0.030043015256524086\n",
      "24) 1.133428931236267\t0.608427107334137\t0.028787996619939804\n",
      "25) 1.133712649345398\t0.6615804433822632\t0.02908797189593315\n",
      "26) 1.1345720291137695\t0.6215962767601013\t0.027977775782346725\n",
      "27) 1.134799599647522\t0.6644853353500366\t0.02821766585111618\n",
      "28) 1.135560154914856\t0.6305221915245056\t0.02722565270960331\n",
      "29) 1.1357550621032715\t0.6731541752815247\t0.027472203597426414\n",
      "30) 1.1363959312438965\t0.6381852030754089\t0.02656620740890503\n",
      "31) 1.1365630626678467\t0.6726452112197876\t0.02680247463285923\n",
      "32) 1.1371445655822754\t0.6450440883636475\t0.026056118309497833\n",
      "33) 1.1372724771499634\t0.6769660711288452\t0.02622196637094021\n",
      "34) 1.1378135681152344\t0.6450757384300232\t0.025484297424554825\n",
      "35) 1.1378960609436035\t0.6862615942955017\t0.02571755461394787\n",
      "36) 1.138420581817627\t0.6504266858100891\t0.02498955838382244\n",
      "37) 1.1385024785995483\t0.6878226399421692\t0.025053663179278374\n",
      "38) 1.1389836072921753\t0.654610812664032\t0.024417707696557045\n",
      "39) 1.1390081644058228\t0.6993564963340759\t0.024610796943306923\n",
      "40) 1.1394706964492798\t0.663059651851654\t0.023946581408381462\n",
      "41) 1.1394985914230347\t0.7022301554679871\t0.02405393123626709\n",
      "42) 1.1399307250976562\t0.6692536473274231\t0.023475300520658493\n",
      "43) 1.1399142742156982\t0.7144128680229187\t0.023613879457116127\n",
      "44) 1.1403517723083496\t0.679490327835083\t0.023051731288433075\n",
      "45) 1.1403223276138306\t0.7185658812522888\t0.02322908118367195\n",
      "46) 1.1407575607299805\t0.6836578249931335\t0.022719956934452057\n",
      "47) 1.140688180923462\t0.7240062952041626\t0.022942937910556793\n",
      "48) 1.141141414642334\t0.6876339912414551\t0.022417141124606133\n",
      "49) 1.1410208940505981\t0.7336261868476868\t0.02254238910973072\n",
      "50) 1.141539454460144\t0.681769847869873\t0.021874651312828064\n",
      "51) 1.1413744688034058\t0.7357974052429199\t0.022291259840130806\n",
      "52) 1.1418240070343018\t0.6951153874397278\t0.02181081473827362\n",
      "53) 1.1417263746261597\t0.7364022135734558\t0.022184383124113083\n",
      "54) 1.1421600580215454\t0.692229688167572\t0.02162710577249527\n",
      "55) 1.142011284828186\t0.7436458468437195\t0.02196362614631653\n",
      "56) 1.1424452066421509\t0.6996760964393616\t0.02135857380926609\n",
      "57) 1.1423206329345703\t0.7458611130714417\t0.021824877709150314\n",
      "58) 1.1427035331726074\t0.7109535336494446\t0.02134093828499317\n",
      "59) 1.1425788402557373\t0.7524403929710388\t0.02187253162264824\n",
      "60) 1.1430131196975708\t0.7013387084007263\t0.02103864774107933\n",
      "61) 1.1428589820861816\t0.7468240261077881\t0.021603187546133995\n",
      "62) 1.143267273902893\t0.7085828185081482\t0.020662257447838783\n",
      "63) 1.1431031227111816\t0.7529764771461487\t0.02138434909284115\n",
      "tf.Tensor([-0.40245795 -0.38338664 -0.44019288  0.40723246], shape=(4,), dtype=float32) tf.Tensor([0.34933236 0.2758037  0.38847226 1.1449662 ], shape=(4,), dtype=float32) tf.Tensor([-3.5844457e-03 -6.9783512e-04 -1.3834575e-02  8.5352391e-01], shape=(4,), dtype=float32)\n"
     ]
    }
   ],
   "source": [
    "# \"learn\" Gaussian locations test on downsampled particles\n",
    "for i in range(64):\n",
    "    with tf.GradientTape() as gt:\n",
    "        gt.watch(gaus.tensor)\n",
    "        projs=gaus.project_simple(orts,ny,txty=txty)\n",
    "        projsf=projs.do_fft()\n",
    "        frcs=tf_frc(projsf.tensor,ptclsfds.tensor,16,1.5)\n",
    "    grad=gt.gradient(frcs,gaus._data)\n",
    "    qual=tf.math.reduce_mean(frcs)\n",
    "    shift=tf.math.reduce_std(grad[:,:3])\n",
    "    sca=tf.math.reduce_std(grad[:,3])\n",
    "    xyzs=1.0/(shift*1000)   # xyz scale\n",
    "    gaus.add_tensor(grad*(xyzs,xyzs,xyzs,1.0/(sca*500)))\n",
    "    print(f\"{i}) {float(qual)}\\t{float(shift)}\\t{float(sca)}\")\n",
    "\n",
    "print(tf.reduce_min(gaus.tensor,0),tf.reduce_max(gaus.tensor,0),tf.reduce_mean(gaus.tensor,0))\n",
    "vol=gaus.volume(map1[\"nx\"])\n",
    "vol.emdata[0].process_inplace(\"filter.lowpass.gauss\",{\"cutoff_abs\":0.35})\n",
    "vol.write_images(\"A_vol_opt_2.hdf\")"
   ]
  },
  {
   "cell_type": "code",
   "execution_count": 14,
   "id": "66551f8c-47a3-48c7-ae2f-511109f916c8",
   "metadata": {},
   "outputs": [
    {
     "name": "stdout",
     "output_type": "stream",
     "text": [
      "868\n",
      "788\n",
      "3152\n"
     ]
    }
   ],
   "source": [
    "print(len(gaus))\n",
    "gaus.norm_filter(thr=.6)\n",
    "print(len(gaus))\n",
    "gaus.replicate(4,.01)\n",
    "print(len(gaus))\n",
    "\n",
    "ptclsfds=ptcls.downsample(64)    # downsample specifies the final size, not the amount of downsampling\n",
    "ny=ptclsfds.shape[1]"
   ]
  },
  {
   "cell_type": "code",
   "execution_count": 15,
   "id": "b2b59b44-b2e6-44ed-8769-e5e0226c2a5c",
   "metadata": {},
   "outputs": [
    {
     "name": "stdout",
     "output_type": "stream",
     "text": [
      "0) 0.3859594166278839\t2.440650224685669\t0.028969749808311462\n",
      "1) 0.4906199872493744\t2.1578736305236816\t0.028484351933002472\n",
      "2) 0.5764555931091309\t1.818275809288025\t0.027116145938634872\n",
      "3) 0.6508519649505615\t1.5383440256118774\t0.025302255526185036\n",
      "4) 0.7118127942085266\t1.269783616065979\t0.02362540178000927\n",
      "5) 0.7569211721420288\t1.0721246004104614\t0.021973807364702225\n",
      "6) 0.7892785668373108\t0.9720284342765808\t0.020552393049001694\n",
      "7) 0.8116066455841064\t1.0587717294692993\t0.019471026957035065\n",
      "8) 0.8238651156425476\t1.037666916847229\t0.018404686823487282\n",
      "9) 0.8367001414299011\t1.0283383131027222\t0.017285548150539398\n",
      "10) 0.843501091003418\t1.047367811203003\t0.016575338318943977\n",
      "11) 0.8532236814498901\t1.054111361503601\t0.015878671780228615\n",
      "12) 0.8567171096801758\t1.0316859483718872\t0.015229920856654644\n",
      "13) 0.8640272617340088\t1.0460065603256226\t0.01471234206110239\n",
      "14) 0.8644266724586487\t1.0567573308944702\t0.014246844686567783\n",
      "15) 0.8706501722335815\t1.0368391275405884\t0.01400828268378973\n",
      "16) 0.8701772093772888\t1.0859440565109253\t0.013567394576966763\n",
      "17) 0.8759226202964783\t1.0388506650924683\t0.013360145501792431\n",
      "18) 0.8758463263511658\t1.166199803352356\t0.01339362096041441\n",
      "19) 0.8796394467353821\t0.9840620756149292\t0.012718209065496922\n",
      "20) 0.8804965615272522\t1.107424020767212\t0.01263548992574215\n",
      "21) 0.8834441900253296\t1.072766900062561\t0.012527545914053917\n",
      "22) 0.8840301036834717\t1.0657957792282104\t0.012203201651573181\n",
      "23) 0.8848665356636047\t1.0459002256393433\t0.011940345168113708\n",
      "24) 0.887016236782074\t1.0701695680618286\t0.01172699872404337\n",
      "25) 0.8876553773880005\t1.023582100868225\t0.011486568488180637\n",
      "26) 0.8882558941841125\t1.0827540159225464\t0.011431222781538963\n",
      "27) 0.8909508585929871\t1.0360350608825684\t0.011145716533064842\n",
      "28) 0.8902135491371155\t1.0817869901657104\t0.011166217736899853\n",
      "29) 0.8928976058959961\t1.020934820175171\t0.01082406472414732\n",
      "30) 0.8913587331771851\t1.0820659399032593\t0.010829661972820759\n",
      "31) 0.8935416340827942\t1.0414022207260132\t0.010590926744043827\n",
      "32) 0.8927210569381714\t1.0999739170074463\t0.010691428557038307\n",
      "33) 0.8950453400611877\t1.0430994033813477\t0.010293817147612572\n",
      "34) 0.8935025334358215\t1.0955884456634521\t0.01036079227924347\n",
      "35) 0.8956639766693115\t1.0447025299072266\t0.010090290568768978\n",
      "36) 0.895757794380188\t1.0774071216583252\t0.01010383851826191\n",
      "37) 0.8963523507118225\t1.0459425449371338\t0.009895185939967632\n",
      "38) 0.8961924910545349\t1.1053237915039062\t0.009956778027117252\n",
      "39) 0.8976791501045227\t1.0242525339126587\t0.009578010998666286\n",
      "40) 0.8969966173171997\t1.0747404098510742\t0.00963493250310421\n",
      "41) 0.8984922766685486\t1.0680973529815674\t0.009598623029887676\n",
      "42) 0.897319495677948\t1.1004750728607178\t0.009763934649527073\n",
      "43) 0.8992229700088501\t1.0484508275985718\t0.009304671548306942\n",
      "44) 0.8984689116477966\t1.092301845550537\t0.009470054879784584\n",
      "45) 0.9000368118286133\t1.0443223714828491\t0.009149134159088135\n",
      "46) 0.8988666534423828\t1.0889933109283447\t0.009285337291657925\n",
      "47) 0.9002900719642639\t1.0496342182159424\t0.009092443622648716\n",
      "48) 0.8994396328926086\t1.0847656726837158\t0.00905347615480423\n",
      "49) 0.9007402658462524\t1.067496418952942\t0.009008067660033703\n",
      "50) 0.9000357389450073\t1.0932711362838745\t0.008964777924120426\n",
      "51) 0.9008554220199585\t1.0511746406555176\t0.00870534684509039\n",
      "52) 0.9000588655471802\t1.1034624576568604\t0.008877087384462357\n",
      "53) 0.9006468057632446\t1.073413610458374\t0.00861924234777689\n",
      "54) 0.9012628197669983\t1.0931050777435303\t0.008705083280801773\n",
      "55) 0.9010998010635376\t1.0645160675048828\t0.008430654183030128\n",
      "56) 0.9019261598587036\t1.1038390398025513\t0.008724778890609741\n",
      "57) 0.9016318321228027\t1.1089696884155273\t0.008543205447494984\n",
      "58) 0.9023182988166809\t1.0765358209609985\t0.008325004950165749\n",
      "59) 0.9024219512939453\t1.0787769556045532\t0.008091402240097523\n",
      "60) 0.9027043581008911\t1.0802990198135376\t0.008225413039326668\n",
      "61) 0.9017767310142517\t1.1042232513427734\t0.008148186840116978\n",
      "62) 0.9031809568405151\t1.0858900547027588\t0.008031676523387432\n",
      "63) 0.902599036693573\t1.100203275680542\t0.007923692464828491\n",
      "tf.Tensor([-0.26290324 -0.2551537  -0.30648836  0.293117  ], shape=(4,), dtype=float32) tf.Tensor([0.21485467 0.21648428 0.27151328 1.2553253 ], shape=(4,), dtype=float32) tf.Tensor([-0.0011711  -0.00112849 -0.00934081  0.7726118 ], shape=(4,), dtype=float32)\n"
     ]
    }
   ],
   "source": [
    "# \"learn\" Gaussian locations test on downsampled particles\n",
    "for i in range(64):\n",
    "    with tf.GradientTape() as gt:\n",
    "        gt.watch(gaus.tensor)\n",
    "        projs=gaus.project_simple(orts,ny,txty=txty)\n",
    "        projsf=projs.do_fft()\n",
    "        frcs=tf_frc(projsf.tensor,ptclsfds.tensor,-1)\n",
    "    grad=gt.gradient(frcs,gaus._data)\n",
    "    qual=tf.math.reduce_mean(frcs)\n",
    "    shift=tf.math.reduce_std(grad[:,:3])\n",
    "    sca=tf.math.reduce_std(grad[:,3])\n",
    "    xyzs=1.0/(shift*1000)   # xyz scale\n",
    "    gaus.add_tensor(grad*(xyzs,xyzs,xyzs,1.0/(sca*500)))\n",
    "    print(f\"{i}) {float(qual)}\\t{float(shift)}\\t{float(sca)}\")\n",
    "\n",
    "print(tf.reduce_min(gaus.tensor,0),tf.reduce_max(gaus.tensor,0),tf.reduce_mean(gaus.tensor,0))\n",
    "vol=gaus.volume(map1[\"nx\"])\n",
    "vol.emdata[0].process_inplace(\"filter.lowpass.gauss\",{\"cutoff_abs\":0.4})\n",
    "vol.write_images(\"A_vol_opt_3.hdf\")\n",
    "#vol.emdata[0].get_attr_dict()\n"
   ]
  },
  {
   "cell_type": "code",
   "execution_count": 7,
   "id": "782b9326-7bfe-4fc0-ac2e-2795dbdfe4b3",
   "metadata": {},
   "outputs": [],
   "source": [
    "projs.write_images(\"A_reproj_opt.hdf\")"
   ]
  },
  {
   "cell_type": "code",
   "execution_count": 8,
   "id": "9d685791-2232-4067-9fa6-5cb12cbcef2d",
   "metadata": {},
   "outputs": [
    {
     "data": {
      "text/plain": [
       "{'all_int': 0,\n",
       " 'apix_x': 1.0,\n",
       " 'apix_y': 1.0,\n",
       " 'apix_z': 1.0,\n",
       " 'changecount': 10,\n",
       " 'datatype': 7,\n",
       " 'is_complex': 0,\n",
       " 'is_complex_ri': 0,\n",
       " 'is_fftodd': 0,\n",
       " 'is_fftpad': 0,\n",
       " 'maximum': 0.04981573671102524,\n",
       " 'mean': 4.7619989345548674e-05,\n",
       " 'mean_nonzero': 4.762176104122773e-05,\n",
       " 'minimum': -6.521835530293174e-06,\n",
       " 'npad': 1,\n",
       " 'nx': 128,\n",
       " 'ny': 128,\n",
       " 'nz': 128,\n",
       " 'sigma': 0.0007934210007078946,\n",
       " 'sigma_nonzero': 0.0007934356690384448,\n",
       " 'square_sum': 1.324947476387024}"
      ]
     },
     "execution_count": 8,
     "metadata": {},
     "output_type": "execute_result"
    }
   ],
   "source": [
    "vol=gaus.volume(map1[\"nx\"])\n",
    "vol.emdata[0].process_inplace(\"filter.lowpass.gauss\",{\"cutoff_abs\":0.2})\n",
    "vol.write_images(\"A_vol_opt_1.hdf\")\n",
    "vol.emdata[0].get_attr_dict()"
   ]
  },
  {
   "cell_type": "code",
   "execution_count": 19,
   "id": "5bb45027-415a-4fd2-a346-29e5968cedc6",
   "metadata": {},
   "outputs": [
    {
     "data": {
      "text/plain": [
       "(0.0, 0.0)"
      ]
     },
     "execution_count": 19,
     "metadata": {},
     "output_type": "execute_result"
    }
   ],
   "source": [
    "t=Transform()\n",
    "tuple(t.get_trans_2d())"
   ]
  },
  {
   "cell_type": "code",
   "execution_count": 17,
   "id": "87ffde11-191e-43c1-a936-4a60d1d8ad19",
   "metadata": {},
   "outputs": [],
   "source": [
    "io=tf.io.serialize_tensor(gaus.tensor)"
   ]
  },
  {
   "cell_type": "code",
   "execution_count": 32,
   "id": "087d741b-ae42-4e30-a6fa-14b838a98301",
   "metadata": {},
   "outputs": [
    {
     "data": {
      "text/plain": [
       "<tf.Tensor: shape=(3152, 4), dtype=float32, numpy=\n",
       "array([[-0.04800028, -0.06181109,  0.06013177,  0.7327289 ],\n",
       "       [-0.1670731 ,  0.10643263,  0.17440087,  0.7102392 ],\n",
       "       [ 0.14954612, -0.12320649, -0.08890869,  0.67823684],\n",
       "       ...,\n",
       "       [ 0.11189762,  0.07044013,  0.19778779,  0.8038612 ],\n",
       "       [ 0.1142301 ,  0.07582243, -0.21208015,  0.75677645],\n",
       "       [-0.0058985 ,  0.01942485,  0.04024125,  0.88480234]],\n",
       "      dtype=float32)>"
      ]
     },
     "execution_count": 32,
     "metadata": {},
     "output_type": "execute_result"
    }
   ],
   "source": [
    "gaus.tensor"
   ]
  },
  {
   "cell_type": "code",
   "execution_count": 29,
   "id": "4b3d9d6d-8e29-423f-b1ba-3b4b9b53eeee",
   "metadata": {},
   "outputs": [
    {
     "data": {
      "text/plain": [
       "TensorShape([3152, 4])"
      ]
     },
     "execution_count": 29,
     "metadata": {},
     "output_type": "execute_result"
    }
   ],
   "source": [
    "gaus.tensor.shape"
   ]
  },
  {
   "cell_type": "code",
   "execution_count": 34,
   "id": "fba512d9-a7b2-44d3-bc0f-0431ba1e9f70",
   "metadata": {},
   "outputs": [],
   "source": [
    "tf.io.write_file(\"test.tf\",io)"
   ]
  },
  {
   "cell_type": "code",
   "execution_count": 39,
   "id": "8d57bed7-6edc-47c4-b63f-7496853d994b",
   "metadata": {},
   "outputs": [
    {
     "data": {
      "text/plain": [
       "<tf.Tensor: shape=(3152, 4), dtype=float32, numpy=\n",
       "array([[-0.04800028, -0.06181109,  0.06013177,  0.7327289 ],\n",
       "       [-0.1670731 ,  0.10643263,  0.17440087,  0.7102392 ],\n",
       "       [ 0.14954612, -0.12320649, -0.08890869,  0.67823684],\n",
       "       ...,\n",
       "       [ 0.11189762,  0.07044013,  0.19778779,  0.8038612 ],\n",
       "       [ 0.1142301 ,  0.07582243, -0.21208015,  0.75677645],\n",
       "       [-0.0058985 ,  0.01942485,  0.04024125,  0.88480234]],\n",
       "      dtype=float32)>"
      ]
     },
     "execution_count": 39,
     "metadata": {},
     "output_type": "execute_result"
    }
   ],
   "source": [
    "io2=tf.io.read_file(\"test.tf\")\n",
    "ary=tf.io.parse_tensor(io2,tf.float32)\n",
    "ary"
   ]
  },
  {
   "cell_type": "code",
   "execution_count": null,
   "id": "1b055678-9293-4137-84b5-1a8101bedb42",
   "metadata": {},
   "outputs": [],
   "source": []
  }
 ],
 "metadata": {
  "kernelspec": {
   "display_name": "Python 3 (ipykernel)",
   "language": "python",
   "name": "python3"
  },
  "language_info": {
   "codemirror_mode": {
    "name": "ipython",
    "version": 3
   },
   "file_extension": ".py",
   "mimetype": "text/x-python",
   "name": "python",
   "nbconvert_exporter": "python",
   "pygments_lexer": "ipython3",
   "version": "3.11.7"
  }
 },
 "nbformat": 4,
 "nbformat_minor": 5
}
