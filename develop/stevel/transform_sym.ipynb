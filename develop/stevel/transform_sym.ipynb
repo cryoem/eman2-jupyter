{
 "cells": [
  {
   "cell_type": "code",
   "execution_count": 1,
   "metadata": {},
   "outputs": [],
   "source": [
    "from EMAN2 import *\n",
    "import random"
   ]
  },
  {
   "cell_type": "code",
   "execution_count": 2,
   "metadata": {},
   "outputs": [
    {
     "name": "stdout",
     "output_type": "stream",
     "text": [
      "Transform({'az':-0.000,'alt':0.000,'phi':0.000,'tx':9.01,'ty':-0.64,'tz':2.01,'mirror':0,'scale':1.0000,'type':'eman'})\n",
      "Transform({'az':-0.000,'alt':0.000,'phi':72.000,'tx':0.86,'ty':-10.02,'tz':-3.22,'mirror':0,'scale':1.0000,'type':'eman'})\n",
      "Transform({'az':-0.000,'alt':0.000,'phi':144.000,'tx':-9.17,'ty':-6.36,'tz':-0.29,'mirror':0,'scale':1.0000,'type':'eman'})\n",
      "Transform({'az':-0.000,'alt':0.000,'phi':216.000,'tx':-6.01,'ty':3.52,'tz':2.32,'mirror':0,'scale':1.0000,'type':'eman'})\n",
      "Transform({'az':-0.000,'alt':0.000,'phi':288.000,'tx':0.76,'ty':10.27,'tz':1.39,'mirror':0,'scale':1.0000,'type':'eman'})\n"
     ]
    }
   ],
   "source": [
    "xf=Transform()\n",
    "for i in range(5):\n",
    "    shiftxf=Transform({\"type\":\"eman\",\"tx\":random.normalvariate(10,2),\"ty\":random.normalvariate(0,2),\"tz\":random.normalvariate(0,2)})\n",
    "    x=xf.get_sym(\"c5\",i)*shiftxf\n",
    "    print(x)\n"
   ]
  },
  {
   "cell_type": "code",
   "execution_count": 5,
   "metadata": {},
   "outputs": [],
   "source": [
    "def makesymelip(sym,r,shift):\n",
    "    \"Makes a symmetrized set of ellipsoids with a specified translational deviation. ellipsoids are at a radius of r with a translational x/y/z random deviation scaled by shift\"\n",
    "    symvol=EMData(128,128,128)\n",
    "    symvol.to_zero()\n",
    "\n",
    "    xf=Transform()\n",
    "    nsym=xf.get_nsym(sym)\n",
    "    el=EMData(128,128,128)\n",
    "    for i in range(nsym):\n",
    "        shiftxf=Transform({\"type\":\"eman\",\"tx\":random.normalvariate(r,shift),\"ty\":random.normalvariate(0,shift),\"tz\":random.normalvariate(0,shift)})\n",
    "        el.process_inplace(\"testimage.ellipsoid.hollow\",{\"a\":12,\"b\":7,\"c\":6,\"transform\":xf.get_sym(sym,i)*shiftxf})\n",
    "        symvol.add(el)\n",
    "\n",
    "    return symvol\n",
    "        "
   ]
  },
  {
   "cell_type": "code",
   "execution_count": 6,
   "metadata": {},
   "outputs": [],
   "source": [
    "se1=makesymelip(\"c5\",40,3)\n",
    "se2=makesymelip(\"c5\",40,3)"
   ]
  },
  {
   "cell_type": "code",
   "execution_count": 7,
   "metadata": {},
   "outputs": [],
   "source": [
    "se1.write_image(\"x.hdf\",0)\n",
    "se2.write_image(\"x.hdf\",1)\n"
   ]
  },
  {
   "cell_type": "code",
   "execution_count": 23,
   "metadata": {},
   "outputs": [
    {
     "name": "stdout",
     "output_type": "stream",
     "text": [
      "Transform({'az':-0.000,'alt':0.000,'phi':0.000,'tx':9.89,'ty':-0.19,'tz':-1.86,'mirror':0,'scale':1.0000,'type':'eman'})\n",
      "Transform({'az':-0.000,'alt':0.000,'phi':72.000,'tx':9.65,'ty':0.64,'tz':-2.71,'mirror':0,'scale':1.0000,'type':'eman'})\n",
      "Transform({'az':-0.000,'alt':0.000,'phi':144.000,'tx':12.05,'ty':1.49,'tz':-1.48,'mirror':0,'scale':1.0000,'type':'eman'})\n",
      "Transform({'az':-0.000,'alt':0.000,'phi':216.000,'tx':6.96,'ty':-1.63,'tz':-1.66,'mirror':0,'scale':1.0000,'type':'eman'})\n",
      "Transform({'az':-0.000,'alt':0.000,'phi':288.000,'tx':7.91,'ty':0.46,'tz':-2.72,'mirror':0,'scale':1.0000,'type':'eman'})\n"
     ]
    }
   ],
   "source": []
  },
  {
   "cell_type": "code",
   "execution_count": 17,
   "metadata": {},
   "outputs": [
    {
     "data": {
      "text/plain": [
       "Transform({'tx':0.00,'ty':0.00,'alpha':288.000,'mirror':0,'scale':1.0000,'type':'2d'})"
      ]
     },
     "execution_count": 17,
     "metadata": {},
     "output_type": "execute_result"
    }
   ],
   "source": [
    "Transform().get_sym(\"c5\",4)"
   ]
  },
  {
   "cell_type": "code",
   "execution_count": null,
   "metadata": {},
   "outputs": [],
   "source": []
  }
 ],
 "metadata": {
  "kernelspec": {
   "display_name": "Python 3",
   "language": "python",
   "name": "python3"
  },
  "language_info": {
   "codemirror_mode": {
    "name": "ipython",
    "version": 3
   },
   "file_extension": ".py",
   "mimetype": "text/x-python",
   "name": "python",
   "nbconvert_exporter": "python",
   "pygments_lexer": "ipython3",
   "version": "3.7.6"
  }
 },
 "nbformat": 4,
 "nbformat_minor": 4
}
