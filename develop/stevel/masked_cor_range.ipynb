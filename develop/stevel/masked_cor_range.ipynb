{
 "cells": [
  {
   "cell_type": "code",
   "execution_count": 1,
   "metadata": {},
   "outputs": [],
   "source": [
    "from EMAN2 import *\n",
    "import numpy as np"
   ]
  },
  {
   "cell_type": "code",
   "execution_count": 2,
   "metadata": {},
   "outputs": [],
   "source": [
    "rf=EMData(\"/home2/stevel/test3.hdf\",2) \n",
    "rf.process_inplace(\"normalize.edgemean\")"
   ]
  },
  {
   "cell_type": "code",
   "execution_count": 5,
   "metadata": {},
   "outputs": [
    {
     "data": {
      "application/vnd.jupyter.widget-view+json": {
       "model_id": "5ba412ee51204fa2b849d5aa419feaf5",
       "version_major": 2,
       "version_minor": 0
      },
      "text/plain": [
       "Image(value=b'\\x89PNG\\r\\n\\x1a\\n\\x00\\x00\\x00\\rIHDR\\x00\\x00\\x01\\xfa\\x00\\x00\\x01\\xfa\\x08\\x06\\x00\\x00\\x00\\xef\\x15\\…"
      ]
     },
     "metadata": {},
     "output_type": "display_data"
    }
   ],
   "source": [
    "im=EMData(\"/home2/stevel/test3.hdf\",1)\n",
    "im.process_inplace(\"mask.fft.peak\",{\"removepeaks\":1,\"thresh_sigma\":1.0,\"to_mean\":0})\n",
    "im.process_inplace(\"filter.lowpass.tophat\",{\"cutoff_abs\":0.5})\n",
    "im.process_inplace(\"mask.soft\",{\"outer_radius\":250.0,\"width\":3.0})\n",
    "\n",
    "#im.process_inplace(\"filter.lowpass.gauss\",{\"cutoff_freq\":0.05})\n",
    "#im.process_inplace(\"filter.highpass.gauss\",{\"cutoff_pixels\":5})\n",
    "e3display([im,rf],\"image\",\"target\")"
   ]
  },
  {
   "cell_type": "code",
   "execution_count": 60,
   "metadata": {},
   "outputs": [],
   "source": [
    "def fmin(a): return a.index(min(a))"
   ]
  },
  {
   "cell_type": "code",
   "execution_count": 6,
   "metadata": {},
   "outputs": [
    {
     "data": {
      "application/vnd.jupyter.widget-view+json": {
       "model_id": "df6770fa46534aeab9fc0767d574febc",
       "version_major": 2,
       "version_minor": 0
      },
      "text/plain": [
       "Image(value=b'\\x89PNG\\r\\n\\x1a\\n\\x00\\x00\\x00\\rIHDR\\x00\\x00\\x01\\xfa\\x00\\x00\\x01\\xfa\\x08\\x06\\x00\\x00\\x00\\xef\\x15\\…"
      ]
     },
     "metadata": {},
     "output_type": "display_data"
    }
   ],
   "source": [
    "# compute CCF for locally masked regions of target image to try and align each piece independently\n",
    "out=[]\n",
    "mskd=[]\n",
    "xs=[]\n",
    "ys=[]\n",
    "xvs=[]\n",
    "yvs=[]\n",
    "vs=[]\n",
    "for x in range(32,512,32):\n",
    "    for y in range(32,512,32):\n",
    "        imm=im.process(\"mask.gaussian\",{\"dx\":x-256,\"dy\":y-256,\"outer_radius\":80})\n",
    "        imm.mult(10.0)\n",
    "        imm.add(im)\n",
    "        imm.process_inplace(\"normalize.unitlen\")\n",
    "#        rf2=rf.process(\"mask.sharp\",{\"dx\":x-256,\"dy\":y-256,\"outer_radius\":80})\n",
    "        rf2=rf.copy()\n",
    "        rf2.process_inplace(\"normalize.unitlen\")\n",
    "        ccf=imm.calc_ccf(rf2)\n",
    "#        ccf=imm.calc_ccf(im)\n",
    "\n",
    "        ccf.process_inplace(\"xform.phaseorigin.tocenter\")\n",
    "#        ccf.process_inplace(\"mask.sharp\",{\"outer_radius\":40})\n",
    "        a,b,c=ccf.calc_max_location()\n",
    "        c=ccf[a,b]\n",
    "        if c<0.1: continue\n",
    "        xs.append(x)\n",
    "        ys.append(y)\n",
    "        xvs.append(256-a)\n",
    "        yvs.append(256-b)\n",
    "        vs.append(c)\n",
    "        imm2=imm.copy()\n",
    "        imm2.translate(256-a,256-b,0)\n",
    "        mskd.append(imm)\n",
    "        mskd.append(imm2)\n",
    "        mskd.append(rf2)\n",
    "        out.append(ccf)\n",
    "\n",
    "xs=np.array(xs)\n",
    "ys=np.array(ys)\n",
    "xvs=np.array(xvs)\n",
    "yvs=np.array(yvs)\n",
    "vs=np.array(vs)\n",
    "e3display((xs,ys,xvs,yvs,vs),\"plot3d\",\"allccfs\",\"allccfs\")\n",
    "xvs+=xs\n",
    "yvs+=ys\n",
    "e3display(out,\"image\",\"ccfs\",\"ccfs\")\n",
    "e3display(mskd,\"image\",\"masked\",\"masked\")\n",
    "e3display((xs,ys,xvs,yvs,vs),\"image\",\"target\")\n"
   ]
  },
  {
   "cell_type": "code",
   "execution_count": 7,
   "metadata": {},
   "outputs": [
    {
     "data": {
      "application/vnd.jupyter.widget-view+json": {
       "model_id": "67002eebe31b427a94364c6fafb6207f",
       "version_major": 2,
       "version_minor": 0
      },
      "text/plain": [
       "Image(value=b'\\x89PNG\\r\\n\\x1a\\n\\x00\\x00\\x00\\rIHDR\\x00\\x00\\x01\\xfa\\x00\\x00\\x01\\xfa\\x08\\x06\\x00\\x00\\x00\\xef\\x15\\…"
      ]
     },
     "metadata": {},
     "output_type": "display_data"
    }
   ],
   "source": [
    "e3display([rf,mskd[83]],\"image\",\"ref\",\"ref\")"
   ]
  },
  {
   "cell_type": "code",
   "execution_count": 8,
   "metadata": {},
   "outputs": [
    {
     "data": {
      "application/vnd.jupyter.widget-view+json": {
       "model_id": "d932e9a6f19b4956953ff1e64e94bc47",
       "version_major": 2,
       "version_minor": 0
      },
      "text/plain": [
       "Image(value=b'\\x89PNG\\r\\n\\x1a\\n\\x00\\x00\\x00\\rIHDR\\x00\\x00\\x02z\\x00\\x00\\x01\\xda\\x08\\x02\\x00\\x00\\x00\\x18<s(\\x00\\…"
      ]
     },
     "metadata": {},
     "output_type": "display_data"
    }
   ],
   "source": [
    "#exhaustive local translation search using multiple metrics with 3-D plot\n",
    "seq=[]\n",
    "xs=[]\n",
    "ys=[]\n",
    "cdot=[]\n",
    "cfrc=[]\n",
    "clod=[]\n",
    "copts=[]\n",
    "for y in range(-5,30,1):\n",
    "    for x in range(-5,30,1):\n",
    "        imm=im.copy()\n",
    "        imm.translate(x,y,0)\n",
    "        xs.append(x)\n",
    "        ys.append(y)\n",
    "        cdot.append(imm.cmp(\"ccc\",rf))\n",
    "        cfrc.append(imm.cmp(\"frc\",rf,{\"minres\":100,\"maxres\":20}))\n",
    "        clod.append(imm.cmp(\"lod\",rf))\n",
    "        copts.append(imm.cmp(\"optsub\",rf,{\"minres\":100,\"maxres\":20,\"zeromask\":1}))\n",
    "        seq.append(imm)\n",
    "        seq.append(rf)\n",
    "\n",
    "e3display(seq,\"image\",\"masked\",\"masked\")\n",
    "e3display((xs,ys,cdot,cfrc,clod,copts),\"plot3d\",\"allccfs\",\"cmps\")\n",
    "\n"
   ]
  },
  {
   "cell_type": "code",
   "execution_count": 55,
   "metadata": {},
   "outputs": [
    {
     "name": "stdout",
     "output_type": "stream",
     "text": [
      "384 29 5 768\n"
     ]
    }
   ],
   "source": [
    "tst=cdot\n",
    "i=tst.index(min(tst))\n",
    "print(i,xs[i],ys[i],i*2)"
   ]
  },
  {
   "cell_type": "code",
   "execution_count": 103,
   "metadata": {},
   "outputs": [
    {
     "name": "stdout",
     "output_type": "stream",
     "text": [
      "541 540 512 880\n",
      "1082 1080 1024 1760\n",
      "-28 -30 -26 -10\n",
      "6 6 4 28\n"
     ]
    }
   ],
   "source": [
    "#exhaustive local translation search using multiple metrics with 3-D plot\n",
    "seq=[]\n",
    "xs=[]\n",
    "ys=[]\n",
    "cfrc1=[]\n",
    "cfrc2=[]\n",
    "cfrc3=[]\n",
    "cfrc4=[]\n",
    "rf2=rf.process(\"mask.gaussian\",{\"outer_radius\":96})\n",
    "rf2.process_inplace(\"normalize.edgemean\")\n",
    "for y in range(-30,30,2):\n",
    "    for x in range(-30,30,2):\n",
    "        imm=im.copy()\n",
    "        imm.translate(x,y,0)\n",
    "        imm.process_inplace(\"mask.gaussian\",{\"outer_radius\":96})\n",
    "        imm.process_inplace(\"normalize.edgemean\")\n",
    "        xs.append(x)\n",
    "        ys.append(y)\n",
    "        cfrc1.append(imm.cmp(\"frc\",rf2,{\"minres\":350,\"maxres\":80}))\n",
    "        cfrc2.append(imm.cmp(\"frc\",rf2,{\"minres\":350,\"maxres\":60}))\n",
    "        cfrc3.append(imm.cmp(\"frc\",rf2,{\"minres\":350,\"maxres\":40}))\n",
    "        cfrc4.append(imm.cmp(\"ccc\",rf2))\n",
    "        seq.append(imm)\n",
    "        seq.append(rf)\n",
    "\n",
    "e3display(seq,\"image\",\"masked\",\"masked\")\n",
    "e3display((xs,ys,cfrc1,cfrc2,cfrc3,cfrc4),\"plot3d\",\"allccfs\",\"frc\")\n",
    "print(fmin(cfrc1),fmin(cfrc2),fmin(cfrc3),fmin(cfrc4))\n",
    "print(fmin(cfrc1)*2,fmin(cfrc2)*2,fmin(cfrc3)*2,fmin(cfrc4)*2)\n",
    "print(xs[fmin(cfrc1)],xs[fmin(cfrc2)],xs[fmin(cfrc3)],xs[fmin(cfrc4)])\n",
    "print(ys[fmin(cfrc1)],ys[fmin(cfrc2)],ys[fmin(cfrc3)],ys[fmin(cfrc4)])\n",
    "\n"
   ]
  },
  {
   "cell_type": "code",
   "execution_count": 9,
   "metadata": {},
   "outputs": [
    {
     "ename": "NameError",
     "evalue": "name 'fmin' is not defined",
     "output_type": "error",
     "traceback": [
      "\u001b[0;31m---------------------------------------------------------------------------\u001b[0m",
      "\u001b[0;31mNameError\u001b[0m                                 Traceback (most recent call last)",
      "\u001b[0;32m<ipython-input-9-0d24ec9a2e58>\u001b[0m in \u001b[0;36m<module>\u001b[0;34m\u001b[0m\n\u001b[1;32m     26\u001b[0m \u001b[0me3display\u001b[0m\u001b[0;34m(\u001b[0m\u001b[0mseq\u001b[0m\u001b[0;34m,\u001b[0m\u001b[0;34m\"image\"\u001b[0m\u001b[0;34m,\u001b[0m\u001b[0;34m\"masked\"\u001b[0m\u001b[0;34m,\u001b[0m\u001b[0;34m\"masked\"\u001b[0m\u001b[0;34m)\u001b[0m\u001b[0;34m\u001b[0m\u001b[0;34m\u001b[0m\u001b[0m\n\u001b[1;32m     27\u001b[0m \u001b[0me3display\u001b[0m\u001b[0;34m(\u001b[0m\u001b[0;34m(\u001b[0m\u001b[0mxs\u001b[0m\u001b[0;34m,\u001b[0m\u001b[0mys\u001b[0m\u001b[0;34m,\u001b[0m\u001b[0mcfrc1\u001b[0m\u001b[0;34m,\u001b[0m\u001b[0mcfrc2\u001b[0m\u001b[0;34m,\u001b[0m\u001b[0mcfrc3\u001b[0m\u001b[0;34m,\u001b[0m\u001b[0mcfrc4\u001b[0m\u001b[0;34m)\u001b[0m\u001b[0;34m,\u001b[0m\u001b[0;34m\"plot3d\"\u001b[0m\u001b[0;34m,\u001b[0m\u001b[0;34m\"allccfs\"\u001b[0m\u001b[0;34m,\u001b[0m\u001b[0;34m\"optsub\"\u001b[0m\u001b[0;34m)\u001b[0m\u001b[0;34m\u001b[0m\u001b[0;34m\u001b[0m\u001b[0m\n\u001b[0;32m---> 28\u001b[0;31m \u001b[0mprint\u001b[0m\u001b[0;34m(\u001b[0m\u001b[0mfmin\u001b[0m\u001b[0;34m(\u001b[0m\u001b[0mcfrc1\u001b[0m\u001b[0;34m)\u001b[0m\u001b[0;34m,\u001b[0m\u001b[0mfmin\u001b[0m\u001b[0;34m(\u001b[0m\u001b[0mcfrc2\u001b[0m\u001b[0;34m)\u001b[0m\u001b[0;34m,\u001b[0m\u001b[0mfmin\u001b[0m\u001b[0;34m(\u001b[0m\u001b[0mcfrc3\u001b[0m\u001b[0;34m)\u001b[0m\u001b[0;34m,\u001b[0m\u001b[0mfmin\u001b[0m\u001b[0;34m(\u001b[0m\u001b[0mcfrc4\u001b[0m\u001b[0;34m)\u001b[0m\u001b[0;34m)\u001b[0m\u001b[0;34m\u001b[0m\u001b[0;34m\u001b[0m\u001b[0m\n\u001b[0m\u001b[1;32m     29\u001b[0m \u001b[0mprint\u001b[0m\u001b[0;34m(\u001b[0m\u001b[0mfmin\u001b[0m\u001b[0;34m(\u001b[0m\u001b[0mcfrc1\u001b[0m\u001b[0;34m)\u001b[0m\u001b[0;34m*\u001b[0m\u001b[0;36m2\u001b[0m\u001b[0;34m,\u001b[0m\u001b[0mfmin\u001b[0m\u001b[0;34m(\u001b[0m\u001b[0mcfrc2\u001b[0m\u001b[0;34m)\u001b[0m\u001b[0;34m*\u001b[0m\u001b[0;36m2\u001b[0m\u001b[0;34m,\u001b[0m\u001b[0mfmin\u001b[0m\u001b[0;34m(\u001b[0m\u001b[0mcfrc3\u001b[0m\u001b[0;34m)\u001b[0m\u001b[0;34m*\u001b[0m\u001b[0;36m2\u001b[0m\u001b[0;34m,\u001b[0m\u001b[0mfmin\u001b[0m\u001b[0;34m(\u001b[0m\u001b[0mcfrc4\u001b[0m\u001b[0;34m)\u001b[0m\u001b[0;34m*\u001b[0m\u001b[0;36m2\u001b[0m\u001b[0;34m)\u001b[0m\u001b[0;34m\u001b[0m\u001b[0;34m\u001b[0m\u001b[0m\n\u001b[1;32m     30\u001b[0m \u001b[0mprint\u001b[0m\u001b[0;34m(\u001b[0m\u001b[0mxs\u001b[0m\u001b[0;34m[\u001b[0m\u001b[0mfmin\u001b[0m\u001b[0;34m(\u001b[0m\u001b[0mcfrc1\u001b[0m\u001b[0;34m)\u001b[0m\u001b[0;34m]\u001b[0m\u001b[0;34m,\u001b[0m\u001b[0mxs\u001b[0m\u001b[0;34m[\u001b[0m\u001b[0mfmin\u001b[0m\u001b[0;34m(\u001b[0m\u001b[0mcfrc2\u001b[0m\u001b[0;34m)\u001b[0m\u001b[0;34m]\u001b[0m\u001b[0;34m,\u001b[0m\u001b[0mxs\u001b[0m\u001b[0;34m[\u001b[0m\u001b[0mfmin\u001b[0m\u001b[0;34m(\u001b[0m\u001b[0mcfrc3\u001b[0m\u001b[0;34m)\u001b[0m\u001b[0;34m]\u001b[0m\u001b[0;34m,\u001b[0m\u001b[0mxs\u001b[0m\u001b[0;34m[\u001b[0m\u001b[0mfmin\u001b[0m\u001b[0;34m(\u001b[0m\u001b[0mcfrc4\u001b[0m\u001b[0;34m)\u001b[0m\u001b[0;34m]\u001b[0m\u001b[0;34m)\u001b[0m\u001b[0;34m\u001b[0m\u001b[0;34m\u001b[0m\u001b[0m\n",
      "\u001b[0;31mNameError\u001b[0m: name 'fmin' is not defined"
     ]
    }
   ],
   "source": [
    "#exhaustive local translation search using multiple metrics with 3-D plot\n",
    "seq=[]\n",
    "xs=[]\n",
    "ys=[]\n",
    "cfrc1=[]\n",
    "cfrc2=[]\n",
    "cfrc3=[]\n",
    "cfrc4=[]\n",
    "rf2=rf.process(\"mask.soft\",{\"outer_radius\":128})\n",
    "rf2.process_inplace(\"normalize.edgemean\")\n",
    "for y in range(-5,40,2):\n",
    "    for x in range(-5,40,2):\n",
    "        imm=im.copy()\n",
    "        imm.translate(x,y,0)\n",
    "        imm.process_inplace(\"mask.soft\",{\"outer_radius\":128})\n",
    "        imm.process_inplace(\"normalize.edgemean\")\n",
    "        xs.append(x)\n",
    "        ys.append(y)\n",
    "        cfrc1.append(imm.cmp(\"optsub\",rf2,{\"minres\":250,\"maxres\":60,\"zeromask\":1}))\n",
    "        cfrc2.append(imm.cmp(\"optsub\",rf2,{\"minres\":230,\"maxres\":60,\"zeromask\":1}))\n",
    "        cfrc3.append(imm.cmp(\"optsub\",rf2,{\"minres\":210,\"maxres\":60,\"zeromask\":1}))\n",
    "        cfrc4.append(imm.cmp(\"optsub\",rf2,{\"minres\":190,\"maxres\":60,\"zeromask\":1}))\n",
    "        seq.append(imm)\n",
    "        seq.append(rf2)\n",
    "\n",
    "e3display(seq,\"image\",\"masked\",\"masked\")\n",
    "e3display((xs,ys,cfrc1,cfrc2,cfrc3,cfrc4),\"plot3d\",\"allccfs\",\"optsub\")\n",
    "print(fmin(cfrc1),fmin(cfrc2),fmin(cfrc3),fmin(cfrc4))\n",
    "print(fmin(cfrc1)*2,fmin(cfrc2)*2,fmin(cfrc3)*2,fmin(cfrc4)*2)\n",
    "print(xs[fmin(cfrc1)],xs[fmin(cfrc2)],xs[fmin(cfrc3)],xs[fmin(cfrc4)])\n",
    "print(ys[fmin(cfrc1)],ys[fmin(cfrc2)],ys[fmin(cfrc3)],ys[fmin(cfrc4)])"
   ]
  },
  {
   "cell_type": "code",
   "execution_count": 74,
   "metadata": {},
   "outputs": [
    {
     "data": {
      "text/plain": [
       "(9, 11)"
      ]
     },
     "execution_count": 74,
     "metadata": {},
     "output_type": "execute_result"
    }
   ],
   "source": [
    "xs[382//2],ys[382//2]"
   ]
  },
  {
   "cell_type": "code",
   "execution_count": 113,
   "metadata": {},
   "outputs": [],
   "source": [
    "v=EMData(\"/home2/stevel/test2dd_p.hdf\",144)\n",
    "vf=v.do_fft()"
   ]
  },
  {
   "cell_type": "code",
   "execution_count": 107,
   "metadata": {},
   "outputs": [
    {
     "data": {
      "application/vnd.jupyter.widget-view+json": {
       "model_id": "80645a4d909b42e1a155e797f5c02ec4",
       "version_major": 2,
       "version_minor": 0
      },
      "text/plain": [
       "Image(value=b'\\x89PNG\\r\\n\\x1a\\n\\x00\\x00\\x00\\rIHDR\\x00\\x00\\x01\\xfa\\x00\\x00\\x01\\xfa\\x08\\x02\\x00\\x00\\x00`w\\x19\\x1…"
      ]
     },
     "metadata": {},
     "output_type": "display_data"
    }
   ],
   "source": [
    "e3display(v,\"image\",\"test\",\"test\")"
   ]
  },
  {
   "cell_type": "code",
   "execution_count": 149,
   "metadata": {},
   "outputs": [
    {
     "data": {
      "application/vnd.jupyter.widget-view+json": {
       "model_id": "d5856fc3a807494884c6826c3e6af54c",
       "version_major": 2,
       "version_minor": 0
      },
      "text/plain": [
       "Image(value=b'\\x89PNG\\r\\n\\x1a\\n\\x00\\x00\\x00\\rIHDR\\x00\\x00\\x03\\xed\\x00\\x00\\x01\\xda\\x08\\x02\\x00\\x00\\x00\\xfa\\xc5?…"
      ]
     },
     "metadata": {},
     "output_type": "display_data"
    }
   ],
   "source": [
    "amp=np.array(vf.calc_radial_dist(128,0,2,0))\n",
    "inten=np.array(vf.calc_radial_dist(128,0,2,1))\n",
    "az=np.array(vf.calc_az_dist(180,-90,1,20,40))\n",
    "sig=np.sqrt((inten-amp**2.0))\n",
    "e3display(amp,\"plot2d\",\"az\",\"amp\")\n",
    "e3display(sig,\"plot2d\",\"az\",\"sig\")\n",
    "e3display(az,\"plot2d\",\"az\",\"az1\")"
   ]
  },
  {
   "cell_type": "code",
   "execution_count": 131,
   "metadata": {},
   "outputs": [
    {
     "data": {
      "text/plain": [
       "(584.2025989956326, 458.1358177714262, 486.26832580566406)"
      ]
     },
     "execution_count": 131,
     "metadata": {},
     "output_type": "execute_result"
    }
   ],
   "source": [
    "ad.mean(),ad.std(),np.median(ad)\n"
   ]
  },
  {
   "cell_type": "code",
   "execution_count": 136,
   "metadata": {},
   "outputs": [
    {
     "name": "stdout",
     "output_type": "stream",
     "text": [
      "Help on built-in function calc_radial_dist:\n",
      "\n",
      "calc_radial_dist(...)\n",
      "    calc_radial_dist( (object)arg1, (object)n, (object)x0, (object)dx, (object)inten) -> object :\n",
      "        calculates radial distribution. works for real and imaginary images.\n",
      "        inten=0->mean amp, 1->mean inten (amp^2), 2->min, 3->max, 4->sigma. Note that the complex\n",
      "        origin is at (0,0), with periodic boundaries. Note that the inten option is NOT\n",
      "        equivalent to returning amplitude and squaring the result.\n",
      "         \n",
      "        n - number of points.\n",
      "        x0 - starting point x coordinate.\n",
      "        dx - step of x.\n",
      "        inten returns intensity (amp^2) rather than amplitude if set\n",
      "         \n",
      "        return The radial distribution in an array.\n",
      "    \n",
      "        C++ signature :\n",
      "            std::vector<float, std::allocator<float> > calc_radial_dist(EMAN::EMData {lvalue},int,float,float,int)\n",
      "    \n",
      "    calc_radial_dist( (object)arg1, (object)n, (object)x0, (object)dx, (object)nwedge, (object)offset, (object)inten) -> object :\n",
      "        calculates radial distribution subdivided by angle. works for real and imaginary images.\n",
      "        2-D only. The first returns a single vector of n*nwedge points, with radius varying first.\n",
      "        That is, the first n points represent the radial profile in the first wedge.\n",
      "         \n",
      "        n - number of points.\n",
      "        x0 - starting x coordinate.\n",
      "        dx - step of x.\n",
      "        nwedge - int number of wedges to divide the circle into\n",
      "        offset - angular offset in radians for start of first bin\n",
      "        inten - returns intensity (amp^2) rather than amplitude if set\n",
      "         \n",
      "        return nwedge radial distributions packed into a single vector<float>\n",
      "        exception - ImageDimensionException If 'this' image is not 2D.\n",
      "    \n",
      "        C++ signature :\n",
      "            std::vector<float, std::allocator<float> > calc_radial_dist(EMAN::EMData {lvalue},int,float,float,int,float,bool)\n",
      "\n"
     ]
    }
   ],
   "source": [
    "help(EMData.calc_radial_dist)"
   ]
  },
  {
   "cell_type": "code",
   "execution_count": null,
   "metadata": {},
   "outputs": [],
   "source": []
  }
 ],
 "metadata": {
  "kernelspec": {
   "display_name": "Python 3",
   "language": "python",
   "name": "python3"
  },
  "language_info": {
   "codemirror_mode": {
    "name": "ipython",
    "version": 3
   },
   "file_extension": ".py",
   "mimetype": "text/x-python",
   "name": "python",
   "nbconvert_exporter": "python",
   "pygments_lexer": "ipython3",
   "version": "3.7.6"
  }
 },
 "nbformat": 4,
 "nbformat_minor": 4
}
